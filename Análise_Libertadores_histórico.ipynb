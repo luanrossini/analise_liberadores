{
  "nbformat": 4,
  "nbformat_minor": 0,
  "metadata": {
    "colab": {
      "provenance": [],
      "authorship_tag": "ABX9TyN4A1/jiZ/+oSCzBZrTypJg",
      "include_colab_link": true
    },
    "kernelspec": {
      "name": "python3",
      "display_name": "Python 3"
    },
    "language_info": {
      "name": "python"
    }
  },
  "cells": [
    {
      "cell_type": "markdown",
      "metadata": {
        "id": "view-in-github",
        "colab_type": "text"
      },
      "source": [
        "<a href=\"https://colab.research.google.com/github/luanrossini/analise_liberadores/blob/main/An%C3%A1lise_Libertadores_hist%C3%B3rico.ipynb\" target=\"_parent\"><img src=\"https://colab.research.google.com/assets/colab-badge.svg\" alt=\"Open In Colab\"/></a>"
      ]
    },
    {
      "cell_type": "code",
      "execution_count": 126,
      "metadata": {
        "id": "QCA9B7ZmFFtj"
      },
      "outputs": [],
      "source": [
        "# Importando bibliotecas\n",
        "import pandas as pd\n",
        "import numpy as np\n",
        "import matplotlib.pyplot as plt\n",
        "import seaborn as sns"
      ]
    },
    {
      "cell_type": "code",
      "source": [
        "# Carregando dataframe\n",
        "df = pd.read_csv(\"libertadores-results-ds.csv\")"
      ],
      "metadata": {
        "id": "UxIeNG_NTLbj"
      },
      "execution_count": 127,
      "outputs": []
    },
    {
      "cell_type": "markdown",
      "source": [
        "## Explorando o dataset"
      ],
      "metadata": {
        "id": "-_ofFaBqUB5U"
      }
    },
    {
      "cell_type": "code",
      "source": [
        "# Visualizando as primeiras 5 linhas\n",
        "df.head()"
      ],
      "metadata": {
        "colab": {
          "base_uri": "https://localhost:8080/",
          "height": 0
        },
        "id": "6dJaGQRZUEi2",
        "outputId": "9d7c8dac-cde9-4cd9-acce-fa191c2e80a7"
      },
      "execution_count": 128,
      "outputs": [
        {
          "output_type": "execute_result",
          "data": {
            "text/plain": [
              "   Edition      Round        Date      Home Club      Away Club  Home Score  \\\n",
              "0     2023      Final   4/11/2023  Fluminense FC   Boca Juniors           2   \n",
              "1     2023  Semifinal   6/10/2023      Palmeiras   Boca Juniors           1   \n",
              "2     2023  Semifinal   5/10/2023  Internacional  Fluminense FC           1   \n",
              "3     2023  Semifinal  29/09/2023   Boca Juniors      Palmeiras           0   \n",
              "4     2023  Semifinal  28/09/2023  Fluminense FC  Internacional           2   \n",
              "\n",
              "   AwayScore  \n",
              "0          1  \n",
              "1          1  \n",
              "2          2  \n",
              "3          0  \n",
              "4          2  "
            ],
            "text/html": [
              "\n",
              "  <div id=\"df-522b962d-6320-46f1-9052-f322df8f246f\" class=\"colab-df-container\">\n",
              "    <div>\n",
              "<style scoped>\n",
              "    .dataframe tbody tr th:only-of-type {\n",
              "        vertical-align: middle;\n",
              "    }\n",
              "\n",
              "    .dataframe tbody tr th {\n",
              "        vertical-align: top;\n",
              "    }\n",
              "\n",
              "    .dataframe thead th {\n",
              "        text-align: right;\n",
              "    }\n",
              "</style>\n",
              "<table border=\"1\" class=\"dataframe\">\n",
              "  <thead>\n",
              "    <tr style=\"text-align: right;\">\n",
              "      <th></th>\n",
              "      <th>Edition</th>\n",
              "      <th>Round</th>\n",
              "      <th>Date</th>\n",
              "      <th>Home Club</th>\n",
              "      <th>Away Club</th>\n",
              "      <th>Home Score</th>\n",
              "      <th>AwayScore</th>\n",
              "    </tr>\n",
              "  </thead>\n",
              "  <tbody>\n",
              "    <tr>\n",
              "      <th>0</th>\n",
              "      <td>2023</td>\n",
              "      <td>Final</td>\n",
              "      <td>4/11/2023</td>\n",
              "      <td>Fluminense FC</td>\n",
              "      <td>Boca Juniors</td>\n",
              "      <td>2</td>\n",
              "      <td>1</td>\n",
              "    </tr>\n",
              "    <tr>\n",
              "      <th>1</th>\n",
              "      <td>2023</td>\n",
              "      <td>Semifinal</td>\n",
              "      <td>6/10/2023</td>\n",
              "      <td>Palmeiras</td>\n",
              "      <td>Boca Juniors</td>\n",
              "      <td>1</td>\n",
              "      <td>1</td>\n",
              "    </tr>\n",
              "    <tr>\n",
              "      <th>2</th>\n",
              "      <td>2023</td>\n",
              "      <td>Semifinal</td>\n",
              "      <td>5/10/2023</td>\n",
              "      <td>Internacional</td>\n",
              "      <td>Fluminense FC</td>\n",
              "      <td>1</td>\n",
              "      <td>2</td>\n",
              "    </tr>\n",
              "    <tr>\n",
              "      <th>3</th>\n",
              "      <td>2023</td>\n",
              "      <td>Semifinal</td>\n",
              "      <td>29/09/2023</td>\n",
              "      <td>Boca Juniors</td>\n",
              "      <td>Palmeiras</td>\n",
              "      <td>0</td>\n",
              "      <td>0</td>\n",
              "    </tr>\n",
              "    <tr>\n",
              "      <th>4</th>\n",
              "      <td>2023</td>\n",
              "      <td>Semifinal</td>\n",
              "      <td>28/09/2023</td>\n",
              "      <td>Fluminense FC</td>\n",
              "      <td>Internacional</td>\n",
              "      <td>2</td>\n",
              "      <td>2</td>\n",
              "    </tr>\n",
              "  </tbody>\n",
              "</table>\n",
              "</div>\n",
              "    <div class=\"colab-df-buttons\">\n",
              "\n",
              "  <div class=\"colab-df-container\">\n",
              "    <button class=\"colab-df-convert\" onclick=\"convertToInteractive('df-522b962d-6320-46f1-9052-f322df8f246f')\"\n",
              "            title=\"Convert this dataframe to an interactive table.\"\n",
              "            style=\"display:none;\">\n",
              "\n",
              "  <svg xmlns=\"http://www.w3.org/2000/svg\" height=\"24px\" viewBox=\"0 -960 960 960\">\n",
              "    <path d=\"M120-120v-720h720v720H120Zm60-500h600v-160H180v160Zm220 220h160v-160H400v160Zm0 220h160v-160H400v160ZM180-400h160v-160H180v160Zm440 0h160v-160H620v160ZM180-180h160v-160H180v160Zm440 0h160v-160H620v160Z\"/>\n",
              "  </svg>\n",
              "    </button>\n",
              "\n",
              "  <style>\n",
              "    .colab-df-container {\n",
              "      display:flex;\n",
              "      gap: 12px;\n",
              "    }\n",
              "\n",
              "    .colab-df-convert {\n",
              "      background-color: #E8F0FE;\n",
              "      border: none;\n",
              "      border-radius: 50%;\n",
              "      cursor: pointer;\n",
              "      display: none;\n",
              "      fill: #1967D2;\n",
              "      height: 32px;\n",
              "      padding: 0 0 0 0;\n",
              "      width: 32px;\n",
              "    }\n",
              "\n",
              "    .colab-df-convert:hover {\n",
              "      background-color: #E2EBFA;\n",
              "      box-shadow: 0px 1px 2px rgba(60, 64, 67, 0.3), 0px 1px 3px 1px rgba(60, 64, 67, 0.15);\n",
              "      fill: #174EA6;\n",
              "    }\n",
              "\n",
              "    .colab-df-buttons div {\n",
              "      margin-bottom: 4px;\n",
              "    }\n",
              "\n",
              "    [theme=dark] .colab-df-convert {\n",
              "      background-color: #3B4455;\n",
              "      fill: #D2E3FC;\n",
              "    }\n",
              "\n",
              "    [theme=dark] .colab-df-convert:hover {\n",
              "      background-color: #434B5C;\n",
              "      box-shadow: 0px 1px 3px 1px rgba(0, 0, 0, 0.15);\n",
              "      filter: drop-shadow(0px 1px 2px rgba(0, 0, 0, 0.3));\n",
              "      fill: #FFFFFF;\n",
              "    }\n",
              "  </style>\n",
              "\n",
              "    <script>\n",
              "      const buttonEl =\n",
              "        document.querySelector('#df-522b962d-6320-46f1-9052-f322df8f246f button.colab-df-convert');\n",
              "      buttonEl.style.display =\n",
              "        google.colab.kernel.accessAllowed ? 'block' : 'none';\n",
              "\n",
              "      async function convertToInteractive(key) {\n",
              "        const element = document.querySelector('#df-522b962d-6320-46f1-9052-f322df8f246f');\n",
              "        const dataTable =\n",
              "          await google.colab.kernel.invokeFunction('convertToInteractive',\n",
              "                                                    [key], {});\n",
              "        if (!dataTable) return;\n",
              "\n",
              "        const docLinkHtml = 'Like what you see? Visit the ' +\n",
              "          '<a target=\"_blank\" href=https://colab.research.google.com/notebooks/data_table.ipynb>data table notebook</a>'\n",
              "          + ' to learn more about interactive tables.';\n",
              "        element.innerHTML = '';\n",
              "        dataTable['output_type'] = 'display_data';\n",
              "        await google.colab.output.renderOutput(dataTable, element);\n",
              "        const docLink = document.createElement('div');\n",
              "        docLink.innerHTML = docLinkHtml;\n",
              "        element.appendChild(docLink);\n",
              "      }\n",
              "    </script>\n",
              "  </div>\n",
              "\n",
              "\n",
              "<div id=\"df-1a2813b8-bdf2-4d65-8a7f-2e30e0466271\">\n",
              "  <button class=\"colab-df-quickchart\" onclick=\"quickchart('df-1a2813b8-bdf2-4d65-8a7f-2e30e0466271')\"\n",
              "            title=\"Suggest charts\"\n",
              "            style=\"display:none;\">\n",
              "\n",
              "<svg xmlns=\"http://www.w3.org/2000/svg\" height=\"24px\"viewBox=\"0 0 24 24\"\n",
              "     width=\"24px\">\n",
              "    <g>\n",
              "        <path d=\"M19 3H5c-1.1 0-2 .9-2 2v14c0 1.1.9 2 2 2h14c1.1 0 2-.9 2-2V5c0-1.1-.9-2-2-2zM9 17H7v-7h2v7zm4 0h-2V7h2v10zm4 0h-2v-4h2v4z\"/>\n",
              "    </g>\n",
              "</svg>\n",
              "  </button>\n",
              "\n",
              "<style>\n",
              "  .colab-df-quickchart {\n",
              "      --bg-color: #E8F0FE;\n",
              "      --fill-color: #1967D2;\n",
              "      --hover-bg-color: #E2EBFA;\n",
              "      --hover-fill-color: #174EA6;\n",
              "      --disabled-fill-color: #AAA;\n",
              "      --disabled-bg-color: #DDD;\n",
              "  }\n",
              "\n",
              "  [theme=dark] .colab-df-quickchart {\n",
              "      --bg-color: #3B4455;\n",
              "      --fill-color: #D2E3FC;\n",
              "      --hover-bg-color: #434B5C;\n",
              "      --hover-fill-color: #FFFFFF;\n",
              "      --disabled-bg-color: #3B4455;\n",
              "      --disabled-fill-color: #666;\n",
              "  }\n",
              "\n",
              "  .colab-df-quickchart {\n",
              "    background-color: var(--bg-color);\n",
              "    border: none;\n",
              "    border-radius: 50%;\n",
              "    cursor: pointer;\n",
              "    display: none;\n",
              "    fill: var(--fill-color);\n",
              "    height: 32px;\n",
              "    padding: 0;\n",
              "    width: 32px;\n",
              "  }\n",
              "\n",
              "  .colab-df-quickchart:hover {\n",
              "    background-color: var(--hover-bg-color);\n",
              "    box-shadow: 0 1px 2px rgba(60, 64, 67, 0.3), 0 1px 3px 1px rgba(60, 64, 67, 0.15);\n",
              "    fill: var(--button-hover-fill-color);\n",
              "  }\n",
              "\n",
              "  .colab-df-quickchart-complete:disabled,\n",
              "  .colab-df-quickchart-complete:disabled:hover {\n",
              "    background-color: var(--disabled-bg-color);\n",
              "    fill: var(--disabled-fill-color);\n",
              "    box-shadow: none;\n",
              "  }\n",
              "\n",
              "  .colab-df-spinner {\n",
              "    border: 2px solid var(--fill-color);\n",
              "    border-color: transparent;\n",
              "    border-bottom-color: var(--fill-color);\n",
              "    animation:\n",
              "      spin 1s steps(1) infinite;\n",
              "  }\n",
              "\n",
              "  @keyframes spin {\n",
              "    0% {\n",
              "      border-color: transparent;\n",
              "      border-bottom-color: var(--fill-color);\n",
              "      border-left-color: var(--fill-color);\n",
              "    }\n",
              "    20% {\n",
              "      border-color: transparent;\n",
              "      border-left-color: var(--fill-color);\n",
              "      border-top-color: var(--fill-color);\n",
              "    }\n",
              "    30% {\n",
              "      border-color: transparent;\n",
              "      border-left-color: var(--fill-color);\n",
              "      border-top-color: var(--fill-color);\n",
              "      border-right-color: var(--fill-color);\n",
              "    }\n",
              "    40% {\n",
              "      border-color: transparent;\n",
              "      border-right-color: var(--fill-color);\n",
              "      border-top-color: var(--fill-color);\n",
              "    }\n",
              "    60% {\n",
              "      border-color: transparent;\n",
              "      border-right-color: var(--fill-color);\n",
              "    }\n",
              "    80% {\n",
              "      border-color: transparent;\n",
              "      border-right-color: var(--fill-color);\n",
              "      border-bottom-color: var(--fill-color);\n",
              "    }\n",
              "    90% {\n",
              "      border-color: transparent;\n",
              "      border-bottom-color: var(--fill-color);\n",
              "    }\n",
              "  }\n",
              "</style>\n",
              "\n",
              "  <script>\n",
              "    async function quickchart(key) {\n",
              "      const quickchartButtonEl =\n",
              "        document.querySelector('#' + key + ' button');\n",
              "      quickchartButtonEl.disabled = true;  // To prevent multiple clicks.\n",
              "      quickchartButtonEl.classList.add('colab-df-spinner');\n",
              "      try {\n",
              "        const charts = await google.colab.kernel.invokeFunction(\n",
              "            'suggestCharts', [key], {});\n",
              "      } catch (error) {\n",
              "        console.error('Error during call to suggestCharts:', error);\n",
              "      }\n",
              "      quickchartButtonEl.classList.remove('colab-df-spinner');\n",
              "      quickchartButtonEl.classList.add('colab-df-quickchart-complete');\n",
              "    }\n",
              "    (() => {\n",
              "      let quickchartButtonEl =\n",
              "        document.querySelector('#df-1a2813b8-bdf2-4d65-8a7f-2e30e0466271 button');\n",
              "      quickchartButtonEl.style.display =\n",
              "        google.colab.kernel.accessAllowed ? 'block' : 'none';\n",
              "    })();\n",
              "  </script>\n",
              "</div>\n",
              "\n",
              "    </div>\n",
              "  </div>\n"
            ],
            "application/vnd.google.colaboratory.intrinsic+json": {
              "type": "dataframe",
              "variable_name": "df",
              "summary": "{\n  \"name\": \"df\",\n  \"rows\": 1821,\n  \"fields\": [\n    {\n      \"column\": \"Edition\",\n      \"properties\": {\n        \"dtype\": \"number\",\n        \"std\": 3,\n        \"min\": 2011,\n        \"max\": 2023,\n        \"num_unique_values\": 13,\n        \"samples\": [\n          2014,\n          2016,\n          2023\n        ],\n        \"semantic_type\": \"\",\n        \"description\": \"\"\n      }\n    },\n    {\n      \"column\": \"Round\",\n      \"properties\": {\n        \"dtype\": \"category\",\n        \"num_unique_values\": 13,\n        \"samples\": [\n          \"Group H\",\n          \"Group D\",\n          \"Final\"\n        ],\n        \"semantic_type\": \"\",\n        \"description\": \"\"\n      }\n    },\n    {\n      \"column\": \"Date\",\n      \"properties\": {\n        \"dtype\": \"category\",\n        \"num_unique_values\": 620,\n        \"samples\": [\n          \"17/05/2012\",\n          \"19/04/2013\",\n          \"23/02/2012\"\n        ],\n        \"semantic_type\": \"\",\n        \"description\": \"\"\n      }\n    },\n    {\n      \"column\": \"Home Club\",\n      \"properties\": {\n        \"dtype\": \"category\",\n        \"num_unique_values\": 131,\n        \"samples\": [\n          \"Defensor Sporting\",\n          \"Lan\\u00fas\",\n          \"Libertad\"\n        ],\n        \"semantic_type\": \"\",\n        \"description\": \"\"\n      }\n    },\n    {\n      \"column\": \"Away Club\",\n      \"properties\": {\n        \"dtype\": \"category\",\n        \"num_unique_values\": 131,\n        \"samples\": [\n          \"Junior FC\",\n          \"Deportivo Quito\",\n          \"Aucas\"\n        ],\n        \"semantic_type\": \"\",\n        \"description\": \"\"\n      }\n    },\n    {\n      \"column\": \"Home Score\",\n      \"properties\": {\n        \"dtype\": \"number\",\n        \"std\": 1,\n        \"min\": 0,\n        \"max\": 8,\n        \"num_unique_values\": 9,\n        \"samples\": [\n          6,\n          1,\n          5\n        ],\n        \"semantic_type\": \"\",\n        \"description\": \"\"\n      }\n    },\n    {\n      \"column\": \"AwayScore\",\n      \"properties\": {\n        \"dtype\": \"number\",\n        \"std\": 1,\n        \"min\": 0,\n        \"max\": 7,\n        \"num_unique_values\": 8,\n        \"samples\": [\n          2,\n          5,\n          1\n        ],\n        \"semantic_type\": \"\",\n        \"description\": \"\"\n      }\n    }\n  ]\n}"
            }
          },
          "metadata": {},
          "execution_count": 128
        }
      ]
    },
    {
      "cell_type": "code",
      "source": [
        "# Visualizando as colunas do dataframe\n",
        "df.columns"
      ],
      "metadata": {
        "colab": {
          "base_uri": "https://localhost:8080/"
        },
        "id": "OYUtYGLhUNyq",
        "outputId": "19c595f1-7829-4b70-b172-ad09ed3c1afc"
      },
      "execution_count": 129,
      "outputs": [
        {
          "output_type": "execute_result",
          "data": {
            "text/plain": [
              "Index(['Edition', 'Round', 'Date', 'Home Club', 'Away Club', 'Home Score',\n",
              "       'AwayScore'],\n",
              "      dtype='object')"
            ]
          },
          "metadata": {},
          "execution_count": 129
        }
      ]
    },
    {
      "cell_type": "code",
      "source": [
        "df.dtypes"
      ],
      "metadata": {
        "colab": {
          "base_uri": "https://localhost:8080/"
        },
        "id": "a5DzWle7a-3t",
        "outputId": "dcbe932c-ca2c-4b06-b35b-c9857988ce46"
      },
      "execution_count": 130,
      "outputs": [
        {
          "output_type": "execute_result",
          "data": {
            "text/plain": [
              "Edition        int64\n",
              "Round         object\n",
              "Date          object\n",
              "Home Club     object\n",
              "Away Club     object\n",
              "Home Score     int64\n",
              "AwayScore      int64\n",
              "dtype: object"
            ]
          },
          "metadata": {},
          "execution_count": 130
        }
      ]
    },
    {
      "cell_type": "code",
      "source": [
        "# Dimensões do dataframe\n",
        "print(f\"Linhas: {df.shape[0]}\\nColunas: {df.shape[1]}\")"
      ],
      "metadata": {
        "colab": {
          "base_uri": "https://localhost:8080/"
        },
        "id": "Q2d8_y2TUQWD",
        "outputId": "86f25683-eafc-4f73-9933-0f0bd74f3afa"
      },
      "execution_count": 131,
      "outputs": [
        {
          "output_type": "stream",
          "name": "stdout",
          "text": [
            "Linhas: 1821\n",
            "Colunas: 7\n"
          ]
        }
      ]
    },
    {
      "cell_type": "markdown",
      "source": [
        "A base de dados tem 1821 linhas e 7 colunas"
      ],
      "metadata": {
        "id": "gND1UK5kUeI0"
      }
    },
    {
      "cell_type": "code",
      "source": [
        "# Porcentagem de itens nulos\n",
        "(df.isnull().sum()/df.shape[0]).sort_values(ascending = True) * 100"
      ],
      "metadata": {
        "colab": {
          "base_uri": "https://localhost:8080/"
        },
        "id": "Eqj8It01UT2G",
        "outputId": "08973465-0d36-4f94-827c-4d1e7cb6bd45"
      },
      "execution_count": 132,
      "outputs": [
        {
          "output_type": "execute_result",
          "data": {
            "text/plain": [
              "Edition       0.0\n",
              "Round         0.0\n",
              "Date          0.0\n",
              "Home Club     0.0\n",
              "Away Club     0.0\n",
              "Home Score    0.0\n",
              "AwayScore     0.0\n",
              "dtype: float64"
            ]
          },
          "metadata": {},
          "execution_count": 132
        }
      ]
    },
    {
      "cell_type": "code",
      "source": [
        "# Verificação de dados duplicados\n",
        "df.duplicated().any()"
      ],
      "metadata": {
        "colab": {
          "base_uri": "https://localhost:8080/"
        },
        "id": "Vea8qtkUUX0I",
        "outputId": "bb02fb23-2135-4b09-b421-da2cdd359f4f"
      },
      "execution_count": 133,
      "outputs": [
        {
          "output_type": "execute_result",
          "data": {
            "text/plain": [
              "True"
            ]
          },
          "metadata": {},
          "execution_count": 133
        }
      ]
    },
    {
      "cell_type": "markdown",
      "source": [
        "Existem dados duplicados na base de dados"
      ],
      "metadata": {
        "id": "iU5r3kTwUaUo"
      }
    },
    {
      "cell_type": "markdown",
      "source": [
        "## Tratamento e limpeza dos Dados"
      ],
      "metadata": {
        "id": "N9QRiISaVJrr"
      }
    },
    {
      "cell_type": "code",
      "source": [
        "# Remover linhas duplicadas\n",
        "df = df.drop_duplicates()\n",
        "\n",
        "# Normalizando a nomenclatura dos campos do dataframe\n",
        "df = df.rename(columns={\n",
        "    'Edition': 'season',\n",
        "    'Round': 'stage',\n",
        "    'Date': 'date',\n",
        "    'Home Club': 'home_club',\n",
        "    'Away Club': 'away_club',\n",
        "    'Home Score': 'home_score',\n",
        "    'AwayScore': 'away_score'\n",
        "})\n",
        "\n",
        "# Alterando o nome do clube \"Stellenbosch FC\" para \"Vasco da Gama\" devido a uma inconsistência da base de dados\n",
        "df['home_club'] = df['home_club'].replace('Stellenbosch FC', 'Vasco da Gama')\n",
        "df['away_club'] = df['away_club'].replace('Stellenbosch FC', 'Vasco da Gama')\n",
        "\n"
      ],
      "metadata": {
        "id": "T7AgOkcTs0Dm"
      },
      "execution_count": 134,
      "outputs": []
    },
    {
      "cell_type": "markdown",
      "source": [
        "### Definindo o resultado da partida"
      ],
      "metadata": {
        "id": "90JT3I1DdzWi"
      }
    },
    {
      "cell_type": "code",
      "source": [
        "# Convertendo as colunas para o tipo numérico\n",
        "df['home_score'] = pd.to_numeric(df['home_score'], errors='coerce')\n",
        "df['away_score'] = pd.to_numeric(df['away_score'], errors='coerce')\n",
        "\n",
        "# Definindo a coluna de \"resultado\"\n",
        "def determinar_resultado(home_score, away_score):\n",
        "    if home_score > away_score:\n",
        "        return \"Vitória do time da casa\"\n",
        "    elif home_score < away_score:\n",
        "        return \"Vitória do time visitante\"\n",
        "    else:\n",
        "        return \"Empate\"\n",
        "\n",
        "df['result'] = df.apply(lambda row: determinar_resultado(row['home_score'], row['away_score']), axis=1)"
      ],
      "metadata": {
        "id": "DUCqekv9VK2q"
      },
      "execution_count": 135,
      "outputs": []
    },
    {
      "cell_type": "markdown",
      "source": [
        "### Definindo o país do time de casa e o visitante"
      ],
      "metadata": {
        "id": "pGUbw-CkVJOQ"
      }
    },
    {
      "cell_type": "code",
      "source": [
        "df['home_club'].unique()"
      ],
      "metadata": {
        "colab": {
          "base_uri": "https://localhost:8080/"
        },
        "id": "rEE_pk8yd-g4",
        "outputId": "806169fd-9ff8-4f2e-c0b8-5ed77da6d748"
      },
      "execution_count": 136,
      "outputs": [
        {
          "output_type": "execute_result",
          "data": {
            "text/plain": [
              "array(['Fluminense FC', 'Palmeiras', 'Internacional', 'Boca Juniors',\n",
              "       'Olimpia', 'Racing Club', 'CS Deportivo Pereira', 'Bolívar',\n",
              "       'Independiente', 'Atlético PR', 'Atlético Nacional', 'Flamengo',\n",
              "       'Nacional', 'Atlético Mineiro', 'Argentinos Juniors',\n",
              "       'River Plate', 'Barcelona SC', 'Colo Colo', 'Corinthians',\n",
              "       'Libertad', 'Metropolitanos FC', 'Aucas', 'The Strongest',\n",
              "       'Monagas SC', 'Alianza Lima', 'FBC Melgar', 'Sporting Cristal',\n",
              "       'Patronato de Parana', 'Ñublense', 'Cerro Porteño', 'Liverpool',\n",
              "       'Independiente Medellín', 'Huracán', 'Millonarios', 'Fortaleza',\n",
              "       'CD Magallanes', 'Universidad de Chile', 'Santos FC',\n",
              "       'Vélez Sarsfield', 'Vasco da Gama', 'Lanús', 'Unión Española',\n",
              "       'Deportivo Quito', 'Emelec', 'Cruz Azul', 'Juan Aurich', 'Peñarol',\n",
              "       'Arsenal de Sarandí', 'Junior FC', 'Nacional Asunción',\n",
              "       'Guadalajara', 'Zamora FC', 'Godoy Cruz Antonio Tomba',\n",
              "       'Deportivo Táchira', 'Universidad Católica', 'Defensor Sporting',\n",
              "       'Caracas', 'Tigres UANL', 'Once Caldas', 'Sport Huancayo',\n",
              "       'Real Potosí', 'El Nacional', 'Estudiantes de la Plata',\n",
              "       'Talleres de Cordoba', 'Colón Santa Fe', 'Tolima',\n",
              "       'Deportivo Cali', 'Red Bull Bragantino SP', 'Always Ready',\n",
              "       'Independiente Petrolero', 'América Mineiro', 'Everton CD',\n",
              "       'Jaguares Chiapas', 'LDU de Quito', 'Cruzeiro', 'América',\n",
              "       'Grêmio', 'Universidad San Martín de Porres', 'Jorge Wilstermann',\n",
              "       'Oriente Petrolero', 'Guaraní', 'San Luis FC', 'León de Huánuco',\n",
              "       'Deportivo Petare', 'São Paulo', 'Defensa y Justicia', 'Santa Fe',\n",
              "       'América de Cali', 'Universitario de Deportes', 'Rentistas',\n",
              "       'Deportivo La Guaira FC', 'Unión La Calera', 'Delfin SC', 'Tigre',\n",
              "       'Deportivo Binacional', 'Estudiantes de Mérida', 'Guarani FC',\n",
              "       'Atlético Tucumán', 'San Lorenzo de Almagro', 'Rosario Central',\n",
              "       'Palestino', 'San José', 'Universidad Concepción',\n",
              "       'Deportivo Lara', 'Cusco FC', 'Botafogo FR', 'Chapecoense AF',\n",
              "       'Zulia', 'Sport Boys Warnes', 'Deportes Iquique',\n",
              "       'Deportivo Capiatá', 'Pumas UNAM', 'Toluca FC', 'Trujillanos FC',\n",
              "       'Cobresal', 'Club Puebla', 'Universidad César Vallejo',\n",
              "       'Montevideo Wanderers', 'Universitario', 'Mineros de Guayana',\n",
              "       'Atlas', 'Danubio', 'Monarcas Morelia', 'Santos Laguna', 'León',\n",
              "       \"Newell's Old Boys\", \"O'Higgins\", 'Deportivo Anzoátegui',\n",
              "       'Club Tijuana', 'Huachipato'], dtype=object)"
            ]
          },
          "metadata": {},
          "execution_count": 136
        }
      ]
    },
    {
      "cell_type": "code",
      "source": [
        "def country_of_team(team_name):\n",
        "    # Dicionário que mapeia nomes de times para países\n",
        "    team_country_map = {\n",
        "    'Fluminense FC': 'Brasil',\n",
        "    'Palmeiras': 'Brasil',\n",
        "    'Internacional': 'Brasil',\n",
        "    'Boca Juniors': 'Argentina',\n",
        "    'Olimpia': 'Paraguai',\n",
        "    'Racing Club': 'Argentina',\n",
        "    'CS Deportivo Pereira': 'Colômbia',\n",
        "    'Bolívar': 'Bolívia',\n",
        "    'Independiente': 'Argentina',\n",
        "    'Atlético PR': 'Brasil',\n",
        "    'Atlético Nacional': 'Colômbia',\n",
        "    'Flamengo': 'Brasil',\n",
        "    'Nacional': 'Uruguai',\n",
        "    'Atlético Mineiro': 'Brasil',\n",
        "    'Argentinos Juniors': 'Argentina',\n",
        "    'River Plate': 'Argentina',\n",
        "    'Barcelona SC': 'Equador',\n",
        "    'Colo Colo': 'Chile',\n",
        "    'Corinthians': 'Brasil',\n",
        "    'Libertad': 'Paraguai',\n",
        "    'Metropolitanos FC': 'Venezuela',\n",
        "    'Aucas': 'Equador',\n",
        "    'The Strongest': 'Bolívia',\n",
        "    'Monagas SC': 'Venezuela',\n",
        "    'Alianza Lima': 'Peru',\n",
        "    'FBC Melgar': 'Peru',\n",
        "    'Sporting Cristal': 'Peru',\n",
        "    'Patronato de Parana': 'Argentina',\n",
        "    'Ñublense': 'Chile',\n",
        "    'Cerro Porteño': 'Paraguai',\n",
        "    'Liverpool': 'Uruguai',\n",
        "    'Independiente Medellín': 'Colômbia',\n",
        "    'Huracán': 'Argentina',\n",
        "    'Millonarios': 'Colômbia',\n",
        "    'Fortaleza': 'Brasil',\n",
        "    'CD Magallanes': 'Chile',\n",
        "    'Universidad de Chile': 'Chile',\n",
        "    'Santos FC': 'Brasil',\n",
        "    'Vélez Sarsfield': 'Argentina',\n",
        "    'Vasco da Gama': 'Brasil',\n",
        "    'Lanús': 'Argentina',\n",
        "    'Unión Española': 'Chile',\n",
        "    'Deportivo Quito': 'Equador',\n",
        "    'Emelec': 'Equador',\n",
        "    'Cruz Azul': 'México',\n",
        "    'Juan Aurich': 'Peru',\n",
        "    'Peñarol': 'Uruguai',\n",
        "    'Arsenal de Sarandí': 'Argentina',\n",
        "    'Junior FC': 'Colômbia',\n",
        "    'Nacional Asunción': 'Paraguai',\n",
        "    'Guadalajara': 'México',\n",
        "    'Zamora FC': 'Venezuela',\n",
        "    'Godoy Cruz Antonio Tomba': 'Argentina',\n",
        "    'Deportivo Táchira': 'Venezuela',\n",
        "    'Universidad Católica': 'Chile',\n",
        "    'Defensor Sporting': 'Uruguai',\n",
        "    'Caracas': 'Venezuela',\n",
        "    'Tigres UANL': 'México',\n",
        "    'Once Caldas': 'Colômbia',\n",
        "    'Sport Huancayo': 'Peru',\n",
        "    'Real Potosí': 'Bolívia',\n",
        "    'El Nacional': 'Equador',\n",
        "    'Estudiantes de la Plata': 'Argentina',\n",
        "    'Talleres de Cordoba': 'Argentina',\n",
        "    'Colón Santa Fe': 'Argentina',\n",
        "    'Tolima': 'Colômbia',\n",
        "    'Deportivo Cali': 'Colômbia',\n",
        "    'Red Bull Bragantino SP': 'Brasil',\n",
        "    'Always Ready': 'Bolívia',\n",
        "    'Independiente Petrolero': 'Bolívia',\n",
        "    'América Mineiro': 'Brasil',\n",
        "    'Everton CD': 'Chile',\n",
        "    'Jaguares Chiapas': 'México',\n",
        "    'LDU de Quito': 'Equador',\n",
        "    'Cruzeiro': 'Brasil',\n",
        "    'América': 'México',\n",
        "    'Grêmio': 'Brasil',\n",
        "    'Universidad San Martín de Porres': 'Peru',\n",
        "    'Jorge Wilstermann': 'Bolívia',\n",
        "    'Oriente Petrolero': 'Bolívia',\n",
        "    'Guaraní': 'Paraguai',\n",
        "    'San Luis FC': 'México',\n",
        "    'León de Huánuco': 'Peru',\n",
        "    'Deportivo Petare': 'Venezuela',\n",
        "    'São Paulo': 'Brasil',\n",
        "    'Defensa y Justicia': 'Argentina',\n",
        "    'Santa Fe': 'Colômbia',\n",
        "    'América de Cali': 'Colômbia',\n",
        "    'Universitario de Deportes': 'Peru',\n",
        "    'Rentistas': 'Uruguai',\n",
        "    'Deportivo La Guaira FC': 'Venezuela',\n",
        "    'Unión La Calera': 'Chile',\n",
        "    'Delfin SC': 'Equador',\n",
        "    'Tigre': 'Argentina',\n",
        "    'Deportivo Binacional': 'Peru',\n",
        "    'Estudiantes de Mérida': 'Venezuela',\n",
        "    'Guarani FC': 'Brasil',\n",
        "    'Atlético Tucumán': 'Argentina',\n",
        "    'San Lorenzo de Almagro': 'Argentina',\n",
        "    'Rosario Central': 'Argentina',\n",
        "    'Palestino': 'Chile',\n",
        "    'San José': 'Bolívia',\n",
        "    'Universidad Concepción': 'Chile',\n",
        "    'Deportivo Lara': 'Venezuela',\n",
        "    'Cusco FC': 'Peru',\n",
        "    'Botafogo FR': 'Brasil',\n",
        "    'Chapecoense AF': 'Brasil',\n",
        "    'Zulia': 'Venezuela',\n",
        "    'Sport Boys Warnes': 'Bolívia',\n",
        "    'Deportes Iquique': 'Chile',\n",
        "    'Deportivo Capiatá': 'Paraguai',\n",
        "    'Pumas UNAM': 'México',\n",
        "    'Toluca FC': 'México',\n",
        "    'Trujillanos FC': 'Venezuela',\n",
        "    'Cobresal': 'Chile',\n",
        "    'Club Puebla': 'México',\n",
        "    'Universidad César Vallejo': 'Peru',\n",
        "    'Montevideo Wanderers': 'Uruguai',\n",
        "    'Universitario': 'Peru',\n",
        "    'Mineros de Guayana': 'Venezuela',\n",
        "    'Atlas': 'México',\n",
        "    'Danubio': 'Uruguai',\n",
        "    'Monarcas Morelia': 'México',\n",
        "    'Santos Laguna': 'México',\n",
        "    'León': 'México',\n",
        "    \"Newell's Old Boys\": 'Argentina',\n",
        "    \"O'Higgins\": 'Chile',\n",
        "    'Deportivo Anzoátegui': 'Venezuela',\n",
        "    'Club Tijuana': 'México',\n",
        "    'Huachipato': 'Chile'\n",
        "    }\n",
        "\n",
        "    # Verificar se o nome do time está no dicionário de mapeamento\n",
        "    if team_name in team_country_map:\n",
        "        return team_country_map[team_name]\n",
        "    else:\n",
        "        return \"País não encontrado para este time\"\n"
      ],
      "metadata": {
        "id": "wpwxhojbgZef"
      },
      "execution_count": 137,
      "outputs": []
    },
    {
      "cell_type": "code",
      "source": [
        "# Inserir o país dos times mandantes e visitantes\n",
        "df['country_home'] = df['home_club'].apply(country_of_team)\n",
        "df['country_away'] = df['away_club'].apply(country_of_team)\n",
        "\n",
        "df.head()"
      ],
      "metadata": {
        "colab": {
          "base_uri": "https://localhost:8080/",
          "height": 206
        },
        "id": "J9ccUKTVbOvF",
        "outputId": "490d6509-630a-4480-d9c4-fd8ca3a38ea1"
      },
      "execution_count": 138,
      "outputs": [
        {
          "output_type": "execute_result",
          "data": {
            "text/plain": [
              "   season      stage        date      home_club      away_club  home_score  \\\n",
              "0    2023      Final   4/11/2023  Fluminense FC   Boca Juniors           2   \n",
              "1    2023  Semifinal   6/10/2023      Palmeiras   Boca Juniors           1   \n",
              "2    2023  Semifinal   5/10/2023  Internacional  Fluminense FC           1   \n",
              "3    2023  Semifinal  29/09/2023   Boca Juniors      Palmeiras           0   \n",
              "4    2023  Semifinal  28/09/2023  Fluminense FC  Internacional           2   \n",
              "\n",
              "   away_score                     result country_home country_away  \n",
              "0           1    Vitória do time da casa       Brasil    Argentina  \n",
              "1           1                     Empate       Brasil    Argentina  \n",
              "2           2  Vitória do time visitante       Brasil       Brasil  \n",
              "3           0                     Empate    Argentina       Brasil  \n",
              "4           2                     Empate       Brasil       Brasil  "
            ],
            "text/html": [
              "\n",
              "  <div id=\"df-4f33dfa4-c3df-4f5c-86b9-cf491eda3165\" class=\"colab-df-container\">\n",
              "    <div>\n",
              "<style scoped>\n",
              "    .dataframe tbody tr th:only-of-type {\n",
              "        vertical-align: middle;\n",
              "    }\n",
              "\n",
              "    .dataframe tbody tr th {\n",
              "        vertical-align: top;\n",
              "    }\n",
              "\n",
              "    .dataframe thead th {\n",
              "        text-align: right;\n",
              "    }\n",
              "</style>\n",
              "<table border=\"1\" class=\"dataframe\">\n",
              "  <thead>\n",
              "    <tr style=\"text-align: right;\">\n",
              "      <th></th>\n",
              "      <th>season</th>\n",
              "      <th>stage</th>\n",
              "      <th>date</th>\n",
              "      <th>home_club</th>\n",
              "      <th>away_club</th>\n",
              "      <th>home_score</th>\n",
              "      <th>away_score</th>\n",
              "      <th>result</th>\n",
              "      <th>country_home</th>\n",
              "      <th>country_away</th>\n",
              "    </tr>\n",
              "  </thead>\n",
              "  <tbody>\n",
              "    <tr>\n",
              "      <th>0</th>\n",
              "      <td>2023</td>\n",
              "      <td>Final</td>\n",
              "      <td>4/11/2023</td>\n",
              "      <td>Fluminense FC</td>\n",
              "      <td>Boca Juniors</td>\n",
              "      <td>2</td>\n",
              "      <td>1</td>\n",
              "      <td>Vitória do time da casa</td>\n",
              "      <td>Brasil</td>\n",
              "      <td>Argentina</td>\n",
              "    </tr>\n",
              "    <tr>\n",
              "      <th>1</th>\n",
              "      <td>2023</td>\n",
              "      <td>Semifinal</td>\n",
              "      <td>6/10/2023</td>\n",
              "      <td>Palmeiras</td>\n",
              "      <td>Boca Juniors</td>\n",
              "      <td>1</td>\n",
              "      <td>1</td>\n",
              "      <td>Empate</td>\n",
              "      <td>Brasil</td>\n",
              "      <td>Argentina</td>\n",
              "    </tr>\n",
              "    <tr>\n",
              "      <th>2</th>\n",
              "      <td>2023</td>\n",
              "      <td>Semifinal</td>\n",
              "      <td>5/10/2023</td>\n",
              "      <td>Internacional</td>\n",
              "      <td>Fluminense FC</td>\n",
              "      <td>1</td>\n",
              "      <td>2</td>\n",
              "      <td>Vitória do time visitante</td>\n",
              "      <td>Brasil</td>\n",
              "      <td>Brasil</td>\n",
              "    </tr>\n",
              "    <tr>\n",
              "      <th>3</th>\n",
              "      <td>2023</td>\n",
              "      <td>Semifinal</td>\n",
              "      <td>29/09/2023</td>\n",
              "      <td>Boca Juniors</td>\n",
              "      <td>Palmeiras</td>\n",
              "      <td>0</td>\n",
              "      <td>0</td>\n",
              "      <td>Empate</td>\n",
              "      <td>Argentina</td>\n",
              "      <td>Brasil</td>\n",
              "    </tr>\n",
              "    <tr>\n",
              "      <th>4</th>\n",
              "      <td>2023</td>\n",
              "      <td>Semifinal</td>\n",
              "      <td>28/09/2023</td>\n",
              "      <td>Fluminense FC</td>\n",
              "      <td>Internacional</td>\n",
              "      <td>2</td>\n",
              "      <td>2</td>\n",
              "      <td>Empate</td>\n",
              "      <td>Brasil</td>\n",
              "      <td>Brasil</td>\n",
              "    </tr>\n",
              "  </tbody>\n",
              "</table>\n",
              "</div>\n",
              "    <div class=\"colab-df-buttons\">\n",
              "\n",
              "  <div class=\"colab-df-container\">\n",
              "    <button class=\"colab-df-convert\" onclick=\"convertToInteractive('df-4f33dfa4-c3df-4f5c-86b9-cf491eda3165')\"\n",
              "            title=\"Convert this dataframe to an interactive table.\"\n",
              "            style=\"display:none;\">\n",
              "\n",
              "  <svg xmlns=\"http://www.w3.org/2000/svg\" height=\"24px\" viewBox=\"0 -960 960 960\">\n",
              "    <path d=\"M120-120v-720h720v720H120Zm60-500h600v-160H180v160Zm220 220h160v-160H400v160Zm0 220h160v-160H400v160ZM180-400h160v-160H180v160Zm440 0h160v-160H620v160ZM180-180h160v-160H180v160Zm440 0h160v-160H620v160Z\"/>\n",
              "  </svg>\n",
              "    </button>\n",
              "\n",
              "  <style>\n",
              "    .colab-df-container {\n",
              "      display:flex;\n",
              "      gap: 12px;\n",
              "    }\n",
              "\n",
              "    .colab-df-convert {\n",
              "      background-color: #E8F0FE;\n",
              "      border: none;\n",
              "      border-radius: 50%;\n",
              "      cursor: pointer;\n",
              "      display: none;\n",
              "      fill: #1967D2;\n",
              "      height: 32px;\n",
              "      padding: 0 0 0 0;\n",
              "      width: 32px;\n",
              "    }\n",
              "\n",
              "    .colab-df-convert:hover {\n",
              "      background-color: #E2EBFA;\n",
              "      box-shadow: 0px 1px 2px rgba(60, 64, 67, 0.3), 0px 1px 3px 1px rgba(60, 64, 67, 0.15);\n",
              "      fill: #174EA6;\n",
              "    }\n",
              "\n",
              "    .colab-df-buttons div {\n",
              "      margin-bottom: 4px;\n",
              "    }\n",
              "\n",
              "    [theme=dark] .colab-df-convert {\n",
              "      background-color: #3B4455;\n",
              "      fill: #D2E3FC;\n",
              "    }\n",
              "\n",
              "    [theme=dark] .colab-df-convert:hover {\n",
              "      background-color: #434B5C;\n",
              "      box-shadow: 0px 1px 3px 1px rgba(0, 0, 0, 0.15);\n",
              "      filter: drop-shadow(0px 1px 2px rgba(0, 0, 0, 0.3));\n",
              "      fill: #FFFFFF;\n",
              "    }\n",
              "  </style>\n",
              "\n",
              "    <script>\n",
              "      const buttonEl =\n",
              "        document.querySelector('#df-4f33dfa4-c3df-4f5c-86b9-cf491eda3165 button.colab-df-convert');\n",
              "      buttonEl.style.display =\n",
              "        google.colab.kernel.accessAllowed ? 'block' : 'none';\n",
              "\n",
              "      async function convertToInteractive(key) {\n",
              "        const element = document.querySelector('#df-4f33dfa4-c3df-4f5c-86b9-cf491eda3165');\n",
              "        const dataTable =\n",
              "          await google.colab.kernel.invokeFunction('convertToInteractive',\n",
              "                                                    [key], {});\n",
              "        if (!dataTable) return;\n",
              "\n",
              "        const docLinkHtml = 'Like what you see? Visit the ' +\n",
              "          '<a target=\"_blank\" href=https://colab.research.google.com/notebooks/data_table.ipynb>data table notebook</a>'\n",
              "          + ' to learn more about interactive tables.';\n",
              "        element.innerHTML = '';\n",
              "        dataTable['output_type'] = 'display_data';\n",
              "        await google.colab.output.renderOutput(dataTable, element);\n",
              "        const docLink = document.createElement('div');\n",
              "        docLink.innerHTML = docLinkHtml;\n",
              "        element.appendChild(docLink);\n",
              "      }\n",
              "    </script>\n",
              "  </div>\n",
              "\n",
              "\n",
              "<div id=\"df-73371672-5129-4bda-aa6c-5691331f19be\">\n",
              "  <button class=\"colab-df-quickchart\" onclick=\"quickchart('df-73371672-5129-4bda-aa6c-5691331f19be')\"\n",
              "            title=\"Suggest charts\"\n",
              "            style=\"display:none;\">\n",
              "\n",
              "<svg xmlns=\"http://www.w3.org/2000/svg\" height=\"24px\"viewBox=\"0 0 24 24\"\n",
              "     width=\"24px\">\n",
              "    <g>\n",
              "        <path d=\"M19 3H5c-1.1 0-2 .9-2 2v14c0 1.1.9 2 2 2h14c1.1 0 2-.9 2-2V5c0-1.1-.9-2-2-2zM9 17H7v-7h2v7zm4 0h-2V7h2v10zm4 0h-2v-4h2v4z\"/>\n",
              "    </g>\n",
              "</svg>\n",
              "  </button>\n",
              "\n",
              "<style>\n",
              "  .colab-df-quickchart {\n",
              "      --bg-color: #E8F0FE;\n",
              "      --fill-color: #1967D2;\n",
              "      --hover-bg-color: #E2EBFA;\n",
              "      --hover-fill-color: #174EA6;\n",
              "      --disabled-fill-color: #AAA;\n",
              "      --disabled-bg-color: #DDD;\n",
              "  }\n",
              "\n",
              "  [theme=dark] .colab-df-quickchart {\n",
              "      --bg-color: #3B4455;\n",
              "      --fill-color: #D2E3FC;\n",
              "      --hover-bg-color: #434B5C;\n",
              "      --hover-fill-color: #FFFFFF;\n",
              "      --disabled-bg-color: #3B4455;\n",
              "      --disabled-fill-color: #666;\n",
              "  }\n",
              "\n",
              "  .colab-df-quickchart {\n",
              "    background-color: var(--bg-color);\n",
              "    border: none;\n",
              "    border-radius: 50%;\n",
              "    cursor: pointer;\n",
              "    display: none;\n",
              "    fill: var(--fill-color);\n",
              "    height: 32px;\n",
              "    padding: 0;\n",
              "    width: 32px;\n",
              "  }\n",
              "\n",
              "  .colab-df-quickchart:hover {\n",
              "    background-color: var(--hover-bg-color);\n",
              "    box-shadow: 0 1px 2px rgba(60, 64, 67, 0.3), 0 1px 3px 1px rgba(60, 64, 67, 0.15);\n",
              "    fill: var(--button-hover-fill-color);\n",
              "  }\n",
              "\n",
              "  .colab-df-quickchart-complete:disabled,\n",
              "  .colab-df-quickchart-complete:disabled:hover {\n",
              "    background-color: var(--disabled-bg-color);\n",
              "    fill: var(--disabled-fill-color);\n",
              "    box-shadow: none;\n",
              "  }\n",
              "\n",
              "  .colab-df-spinner {\n",
              "    border: 2px solid var(--fill-color);\n",
              "    border-color: transparent;\n",
              "    border-bottom-color: var(--fill-color);\n",
              "    animation:\n",
              "      spin 1s steps(1) infinite;\n",
              "  }\n",
              "\n",
              "  @keyframes spin {\n",
              "    0% {\n",
              "      border-color: transparent;\n",
              "      border-bottom-color: var(--fill-color);\n",
              "      border-left-color: var(--fill-color);\n",
              "    }\n",
              "    20% {\n",
              "      border-color: transparent;\n",
              "      border-left-color: var(--fill-color);\n",
              "      border-top-color: var(--fill-color);\n",
              "    }\n",
              "    30% {\n",
              "      border-color: transparent;\n",
              "      border-left-color: var(--fill-color);\n",
              "      border-top-color: var(--fill-color);\n",
              "      border-right-color: var(--fill-color);\n",
              "    }\n",
              "    40% {\n",
              "      border-color: transparent;\n",
              "      border-right-color: var(--fill-color);\n",
              "      border-top-color: var(--fill-color);\n",
              "    }\n",
              "    60% {\n",
              "      border-color: transparent;\n",
              "      border-right-color: var(--fill-color);\n",
              "    }\n",
              "    80% {\n",
              "      border-color: transparent;\n",
              "      border-right-color: var(--fill-color);\n",
              "      border-bottom-color: var(--fill-color);\n",
              "    }\n",
              "    90% {\n",
              "      border-color: transparent;\n",
              "      border-bottom-color: var(--fill-color);\n",
              "    }\n",
              "  }\n",
              "</style>\n",
              "\n",
              "  <script>\n",
              "    async function quickchart(key) {\n",
              "      const quickchartButtonEl =\n",
              "        document.querySelector('#' + key + ' button');\n",
              "      quickchartButtonEl.disabled = true;  // To prevent multiple clicks.\n",
              "      quickchartButtonEl.classList.add('colab-df-spinner');\n",
              "      try {\n",
              "        const charts = await google.colab.kernel.invokeFunction(\n",
              "            'suggestCharts', [key], {});\n",
              "      } catch (error) {\n",
              "        console.error('Error during call to suggestCharts:', error);\n",
              "      }\n",
              "      quickchartButtonEl.classList.remove('colab-df-spinner');\n",
              "      quickchartButtonEl.classList.add('colab-df-quickchart-complete');\n",
              "    }\n",
              "    (() => {\n",
              "      let quickchartButtonEl =\n",
              "        document.querySelector('#df-73371672-5129-4bda-aa6c-5691331f19be button');\n",
              "      quickchartButtonEl.style.display =\n",
              "        google.colab.kernel.accessAllowed ? 'block' : 'none';\n",
              "    })();\n",
              "  </script>\n",
              "</div>\n",
              "\n",
              "    </div>\n",
              "  </div>\n"
            ],
            "application/vnd.google.colaboratory.intrinsic+json": {
              "type": "dataframe",
              "variable_name": "df",
              "summary": "{\n  \"name\": \"df\",\n  \"rows\": 1733,\n  \"fields\": [\n    {\n      \"column\": \"season\",\n      \"properties\": {\n        \"dtype\": \"number\",\n        \"std\": 3,\n        \"min\": 2011,\n        \"max\": 2023,\n        \"num_unique_values\": 13,\n        \"samples\": [\n          2014,\n          2016,\n          2023\n        ],\n        \"semantic_type\": \"\",\n        \"description\": \"\"\n      }\n    },\n    {\n      \"column\": \"stage\",\n      \"properties\": {\n        \"dtype\": \"category\",\n        \"num_unique_values\": 13,\n        \"samples\": [\n          \"Group H\",\n          \"Group D\",\n          \"Final\"\n        ],\n        \"semantic_type\": \"\",\n        \"description\": \"\"\n      }\n    },\n    {\n      \"column\": \"date\",\n      \"properties\": {\n        \"dtype\": \"category\",\n        \"num_unique_values\": 620,\n        \"samples\": [\n          \"17/05/2012\",\n          \"19/04/2013\",\n          \"23/02/2012\"\n        ],\n        \"semantic_type\": \"\",\n        \"description\": \"\"\n      }\n    },\n    {\n      \"column\": \"home_club\",\n      \"properties\": {\n        \"dtype\": \"category\",\n        \"num_unique_values\": 130,\n        \"samples\": [\n          \"Defensor Sporting\",\n          \"Lan\\u00fas\",\n          \"Libertad\"\n        ],\n        \"semantic_type\": \"\",\n        \"description\": \"\"\n      }\n    },\n    {\n      \"column\": \"away_club\",\n      \"properties\": {\n        \"dtype\": \"category\",\n        \"num_unique_values\": 130,\n        \"samples\": [\n          \"Junior FC\",\n          \"Deportivo Quito\",\n          \"Aucas\"\n        ],\n        \"semantic_type\": \"\",\n        \"description\": \"\"\n      }\n    },\n    {\n      \"column\": \"home_score\",\n      \"properties\": {\n        \"dtype\": \"number\",\n        \"std\": 1,\n        \"min\": 0,\n        \"max\": 8,\n        \"num_unique_values\": 9,\n        \"samples\": [\n          6,\n          1,\n          5\n        ],\n        \"semantic_type\": \"\",\n        \"description\": \"\"\n      }\n    },\n    {\n      \"column\": \"away_score\",\n      \"properties\": {\n        \"dtype\": \"number\",\n        \"std\": 1,\n        \"min\": 0,\n        \"max\": 7,\n        \"num_unique_values\": 8,\n        \"samples\": [\n          2,\n          5,\n          1\n        ],\n        \"semantic_type\": \"\",\n        \"description\": \"\"\n      }\n    },\n    {\n      \"column\": \"result\",\n      \"properties\": {\n        \"dtype\": \"category\",\n        \"num_unique_values\": 3,\n        \"samples\": [\n          \"Vit\\u00f3ria do time da casa\",\n          \"Empate\",\n          \"Vit\\u00f3ria do time visitante\"\n        ],\n        \"semantic_type\": \"\",\n        \"description\": \"\"\n      }\n    },\n    {\n      \"column\": \"country_home\",\n      \"properties\": {\n        \"dtype\": \"category\",\n        \"num_unique_values\": 11,\n        \"samples\": [\n          \"Uruguai\",\n          \"Brasil\",\n          \"Peru\"\n        ],\n        \"semantic_type\": \"\",\n        \"description\": \"\"\n      }\n    },\n    {\n      \"column\": \"country_away\",\n      \"properties\": {\n        \"dtype\": \"category\",\n        \"num_unique_values\": 11,\n        \"samples\": [\n          \"Uruguai\",\n          \"Argentina\",\n          \"Peru\"\n        ],\n        \"semantic_type\": \"\",\n        \"description\": \"\"\n      }\n    }\n  ]\n}"
            }
          },
          "metadata": {},
          "execution_count": 138
        }
      ]
    },
    {
      "cell_type": "markdown",
      "source": [
        "### Tratando as opções da coluna 'stage'"
      ],
      "metadata": {
        "id": "no4wsU2PegBj"
      }
    },
    {
      "cell_type": "code",
      "source": [
        "# Definir uma função para alterar os valores da coluna 'stage'\n",
        "def alterar_stage(valor):\n",
        "    if valor.startswith('Group'):\n",
        "        return 'Group Stage'\n",
        "    else:\n",
        "        return valor\n",
        "\n",
        "# Aplicar a função à coluna 'stage'\n",
        "df['stage'] = df['stage'].apply(alterar_stage)"
      ],
      "metadata": {
        "id": "xQVlujaYel36"
      },
      "execution_count": 139,
      "outputs": []
    },
    {
      "cell_type": "markdown",
      "source": [
        "### Incluindo a informação de placar na base"
      ],
      "metadata": {
        "id": "abm9Q1uosssz"
      }
    },
    {
      "cell_type": "code",
      "source": [
        "# Concatenar as colunas 'home_score' e 'away_score' em uma única coluna 'placar'\n",
        "df['scoreboard'] = df['home_score'].astype(str) + 'x' + df['away_score'].astype(str)\n",
        "df.head()"
      ],
      "metadata": {
        "colab": {
          "base_uri": "https://localhost:8080/",
          "height": 206
        },
        "id": "N_Mf_EULsza4",
        "outputId": "1db7f492-9a48-4fec-9f9c-6d521cb8725d"
      },
      "execution_count": 140,
      "outputs": [
        {
          "output_type": "execute_result",
          "data": {
            "text/plain": [
              "   season      stage        date      home_club      away_club  home_score  \\\n",
              "0    2023      Final   4/11/2023  Fluminense FC   Boca Juniors           2   \n",
              "1    2023  Semifinal   6/10/2023      Palmeiras   Boca Juniors           1   \n",
              "2    2023  Semifinal   5/10/2023  Internacional  Fluminense FC           1   \n",
              "3    2023  Semifinal  29/09/2023   Boca Juniors      Palmeiras           0   \n",
              "4    2023  Semifinal  28/09/2023  Fluminense FC  Internacional           2   \n",
              "\n",
              "   away_score                     result country_home country_away scoreboard  \n",
              "0           1    Vitória do time da casa       Brasil    Argentina        2x1  \n",
              "1           1                     Empate       Brasil    Argentina        1x1  \n",
              "2           2  Vitória do time visitante       Brasil       Brasil        1x2  \n",
              "3           0                     Empate    Argentina       Brasil        0x0  \n",
              "4           2                     Empate       Brasil       Brasil        2x2  "
            ],
            "text/html": [
              "\n",
              "  <div id=\"df-ab3bfd0b-8656-4976-8831-24d8de6ff4b4\" class=\"colab-df-container\">\n",
              "    <div>\n",
              "<style scoped>\n",
              "    .dataframe tbody tr th:only-of-type {\n",
              "        vertical-align: middle;\n",
              "    }\n",
              "\n",
              "    .dataframe tbody tr th {\n",
              "        vertical-align: top;\n",
              "    }\n",
              "\n",
              "    .dataframe thead th {\n",
              "        text-align: right;\n",
              "    }\n",
              "</style>\n",
              "<table border=\"1\" class=\"dataframe\">\n",
              "  <thead>\n",
              "    <tr style=\"text-align: right;\">\n",
              "      <th></th>\n",
              "      <th>season</th>\n",
              "      <th>stage</th>\n",
              "      <th>date</th>\n",
              "      <th>home_club</th>\n",
              "      <th>away_club</th>\n",
              "      <th>home_score</th>\n",
              "      <th>away_score</th>\n",
              "      <th>result</th>\n",
              "      <th>country_home</th>\n",
              "      <th>country_away</th>\n",
              "      <th>scoreboard</th>\n",
              "    </tr>\n",
              "  </thead>\n",
              "  <tbody>\n",
              "    <tr>\n",
              "      <th>0</th>\n",
              "      <td>2023</td>\n",
              "      <td>Final</td>\n",
              "      <td>4/11/2023</td>\n",
              "      <td>Fluminense FC</td>\n",
              "      <td>Boca Juniors</td>\n",
              "      <td>2</td>\n",
              "      <td>1</td>\n",
              "      <td>Vitória do time da casa</td>\n",
              "      <td>Brasil</td>\n",
              "      <td>Argentina</td>\n",
              "      <td>2x1</td>\n",
              "    </tr>\n",
              "    <tr>\n",
              "      <th>1</th>\n",
              "      <td>2023</td>\n",
              "      <td>Semifinal</td>\n",
              "      <td>6/10/2023</td>\n",
              "      <td>Palmeiras</td>\n",
              "      <td>Boca Juniors</td>\n",
              "      <td>1</td>\n",
              "      <td>1</td>\n",
              "      <td>Empate</td>\n",
              "      <td>Brasil</td>\n",
              "      <td>Argentina</td>\n",
              "      <td>1x1</td>\n",
              "    </tr>\n",
              "    <tr>\n",
              "      <th>2</th>\n",
              "      <td>2023</td>\n",
              "      <td>Semifinal</td>\n",
              "      <td>5/10/2023</td>\n",
              "      <td>Internacional</td>\n",
              "      <td>Fluminense FC</td>\n",
              "      <td>1</td>\n",
              "      <td>2</td>\n",
              "      <td>Vitória do time visitante</td>\n",
              "      <td>Brasil</td>\n",
              "      <td>Brasil</td>\n",
              "      <td>1x2</td>\n",
              "    </tr>\n",
              "    <tr>\n",
              "      <th>3</th>\n",
              "      <td>2023</td>\n",
              "      <td>Semifinal</td>\n",
              "      <td>29/09/2023</td>\n",
              "      <td>Boca Juniors</td>\n",
              "      <td>Palmeiras</td>\n",
              "      <td>0</td>\n",
              "      <td>0</td>\n",
              "      <td>Empate</td>\n",
              "      <td>Argentina</td>\n",
              "      <td>Brasil</td>\n",
              "      <td>0x0</td>\n",
              "    </tr>\n",
              "    <tr>\n",
              "      <th>4</th>\n",
              "      <td>2023</td>\n",
              "      <td>Semifinal</td>\n",
              "      <td>28/09/2023</td>\n",
              "      <td>Fluminense FC</td>\n",
              "      <td>Internacional</td>\n",
              "      <td>2</td>\n",
              "      <td>2</td>\n",
              "      <td>Empate</td>\n",
              "      <td>Brasil</td>\n",
              "      <td>Brasil</td>\n",
              "      <td>2x2</td>\n",
              "    </tr>\n",
              "  </tbody>\n",
              "</table>\n",
              "</div>\n",
              "    <div class=\"colab-df-buttons\">\n",
              "\n",
              "  <div class=\"colab-df-container\">\n",
              "    <button class=\"colab-df-convert\" onclick=\"convertToInteractive('df-ab3bfd0b-8656-4976-8831-24d8de6ff4b4')\"\n",
              "            title=\"Convert this dataframe to an interactive table.\"\n",
              "            style=\"display:none;\">\n",
              "\n",
              "  <svg xmlns=\"http://www.w3.org/2000/svg\" height=\"24px\" viewBox=\"0 -960 960 960\">\n",
              "    <path d=\"M120-120v-720h720v720H120Zm60-500h600v-160H180v160Zm220 220h160v-160H400v160Zm0 220h160v-160H400v160ZM180-400h160v-160H180v160Zm440 0h160v-160H620v160ZM180-180h160v-160H180v160Zm440 0h160v-160H620v160Z\"/>\n",
              "  </svg>\n",
              "    </button>\n",
              "\n",
              "  <style>\n",
              "    .colab-df-container {\n",
              "      display:flex;\n",
              "      gap: 12px;\n",
              "    }\n",
              "\n",
              "    .colab-df-convert {\n",
              "      background-color: #E8F0FE;\n",
              "      border: none;\n",
              "      border-radius: 50%;\n",
              "      cursor: pointer;\n",
              "      display: none;\n",
              "      fill: #1967D2;\n",
              "      height: 32px;\n",
              "      padding: 0 0 0 0;\n",
              "      width: 32px;\n",
              "    }\n",
              "\n",
              "    .colab-df-convert:hover {\n",
              "      background-color: #E2EBFA;\n",
              "      box-shadow: 0px 1px 2px rgba(60, 64, 67, 0.3), 0px 1px 3px 1px rgba(60, 64, 67, 0.15);\n",
              "      fill: #174EA6;\n",
              "    }\n",
              "\n",
              "    .colab-df-buttons div {\n",
              "      margin-bottom: 4px;\n",
              "    }\n",
              "\n",
              "    [theme=dark] .colab-df-convert {\n",
              "      background-color: #3B4455;\n",
              "      fill: #D2E3FC;\n",
              "    }\n",
              "\n",
              "    [theme=dark] .colab-df-convert:hover {\n",
              "      background-color: #434B5C;\n",
              "      box-shadow: 0px 1px 3px 1px rgba(0, 0, 0, 0.15);\n",
              "      filter: drop-shadow(0px 1px 2px rgba(0, 0, 0, 0.3));\n",
              "      fill: #FFFFFF;\n",
              "    }\n",
              "  </style>\n",
              "\n",
              "    <script>\n",
              "      const buttonEl =\n",
              "        document.querySelector('#df-ab3bfd0b-8656-4976-8831-24d8de6ff4b4 button.colab-df-convert');\n",
              "      buttonEl.style.display =\n",
              "        google.colab.kernel.accessAllowed ? 'block' : 'none';\n",
              "\n",
              "      async function convertToInteractive(key) {\n",
              "        const element = document.querySelector('#df-ab3bfd0b-8656-4976-8831-24d8de6ff4b4');\n",
              "        const dataTable =\n",
              "          await google.colab.kernel.invokeFunction('convertToInteractive',\n",
              "                                                    [key], {});\n",
              "        if (!dataTable) return;\n",
              "\n",
              "        const docLinkHtml = 'Like what you see? Visit the ' +\n",
              "          '<a target=\"_blank\" href=https://colab.research.google.com/notebooks/data_table.ipynb>data table notebook</a>'\n",
              "          + ' to learn more about interactive tables.';\n",
              "        element.innerHTML = '';\n",
              "        dataTable['output_type'] = 'display_data';\n",
              "        await google.colab.output.renderOutput(dataTable, element);\n",
              "        const docLink = document.createElement('div');\n",
              "        docLink.innerHTML = docLinkHtml;\n",
              "        element.appendChild(docLink);\n",
              "      }\n",
              "    </script>\n",
              "  </div>\n",
              "\n",
              "\n",
              "<div id=\"df-f8dda717-8fed-4979-8275-d7f92cb76ff1\">\n",
              "  <button class=\"colab-df-quickchart\" onclick=\"quickchart('df-f8dda717-8fed-4979-8275-d7f92cb76ff1')\"\n",
              "            title=\"Suggest charts\"\n",
              "            style=\"display:none;\">\n",
              "\n",
              "<svg xmlns=\"http://www.w3.org/2000/svg\" height=\"24px\"viewBox=\"0 0 24 24\"\n",
              "     width=\"24px\">\n",
              "    <g>\n",
              "        <path d=\"M19 3H5c-1.1 0-2 .9-2 2v14c0 1.1.9 2 2 2h14c1.1 0 2-.9 2-2V5c0-1.1-.9-2-2-2zM9 17H7v-7h2v7zm4 0h-2V7h2v10zm4 0h-2v-4h2v4z\"/>\n",
              "    </g>\n",
              "</svg>\n",
              "  </button>\n",
              "\n",
              "<style>\n",
              "  .colab-df-quickchart {\n",
              "      --bg-color: #E8F0FE;\n",
              "      --fill-color: #1967D2;\n",
              "      --hover-bg-color: #E2EBFA;\n",
              "      --hover-fill-color: #174EA6;\n",
              "      --disabled-fill-color: #AAA;\n",
              "      --disabled-bg-color: #DDD;\n",
              "  }\n",
              "\n",
              "  [theme=dark] .colab-df-quickchart {\n",
              "      --bg-color: #3B4455;\n",
              "      --fill-color: #D2E3FC;\n",
              "      --hover-bg-color: #434B5C;\n",
              "      --hover-fill-color: #FFFFFF;\n",
              "      --disabled-bg-color: #3B4455;\n",
              "      --disabled-fill-color: #666;\n",
              "  }\n",
              "\n",
              "  .colab-df-quickchart {\n",
              "    background-color: var(--bg-color);\n",
              "    border: none;\n",
              "    border-radius: 50%;\n",
              "    cursor: pointer;\n",
              "    display: none;\n",
              "    fill: var(--fill-color);\n",
              "    height: 32px;\n",
              "    padding: 0;\n",
              "    width: 32px;\n",
              "  }\n",
              "\n",
              "  .colab-df-quickchart:hover {\n",
              "    background-color: var(--hover-bg-color);\n",
              "    box-shadow: 0 1px 2px rgba(60, 64, 67, 0.3), 0 1px 3px 1px rgba(60, 64, 67, 0.15);\n",
              "    fill: var(--button-hover-fill-color);\n",
              "  }\n",
              "\n",
              "  .colab-df-quickchart-complete:disabled,\n",
              "  .colab-df-quickchart-complete:disabled:hover {\n",
              "    background-color: var(--disabled-bg-color);\n",
              "    fill: var(--disabled-fill-color);\n",
              "    box-shadow: none;\n",
              "  }\n",
              "\n",
              "  .colab-df-spinner {\n",
              "    border: 2px solid var(--fill-color);\n",
              "    border-color: transparent;\n",
              "    border-bottom-color: var(--fill-color);\n",
              "    animation:\n",
              "      spin 1s steps(1) infinite;\n",
              "  }\n",
              "\n",
              "  @keyframes spin {\n",
              "    0% {\n",
              "      border-color: transparent;\n",
              "      border-bottom-color: var(--fill-color);\n",
              "      border-left-color: var(--fill-color);\n",
              "    }\n",
              "    20% {\n",
              "      border-color: transparent;\n",
              "      border-left-color: var(--fill-color);\n",
              "      border-top-color: var(--fill-color);\n",
              "    }\n",
              "    30% {\n",
              "      border-color: transparent;\n",
              "      border-left-color: var(--fill-color);\n",
              "      border-top-color: var(--fill-color);\n",
              "      border-right-color: var(--fill-color);\n",
              "    }\n",
              "    40% {\n",
              "      border-color: transparent;\n",
              "      border-right-color: var(--fill-color);\n",
              "      border-top-color: var(--fill-color);\n",
              "    }\n",
              "    60% {\n",
              "      border-color: transparent;\n",
              "      border-right-color: var(--fill-color);\n",
              "    }\n",
              "    80% {\n",
              "      border-color: transparent;\n",
              "      border-right-color: var(--fill-color);\n",
              "      border-bottom-color: var(--fill-color);\n",
              "    }\n",
              "    90% {\n",
              "      border-color: transparent;\n",
              "      border-bottom-color: var(--fill-color);\n",
              "    }\n",
              "  }\n",
              "</style>\n",
              "\n",
              "  <script>\n",
              "    async function quickchart(key) {\n",
              "      const quickchartButtonEl =\n",
              "        document.querySelector('#' + key + ' button');\n",
              "      quickchartButtonEl.disabled = true;  // To prevent multiple clicks.\n",
              "      quickchartButtonEl.classList.add('colab-df-spinner');\n",
              "      try {\n",
              "        const charts = await google.colab.kernel.invokeFunction(\n",
              "            'suggestCharts', [key], {});\n",
              "      } catch (error) {\n",
              "        console.error('Error during call to suggestCharts:', error);\n",
              "      }\n",
              "      quickchartButtonEl.classList.remove('colab-df-spinner');\n",
              "      quickchartButtonEl.classList.add('colab-df-quickchart-complete');\n",
              "    }\n",
              "    (() => {\n",
              "      let quickchartButtonEl =\n",
              "        document.querySelector('#df-f8dda717-8fed-4979-8275-d7f92cb76ff1 button');\n",
              "      quickchartButtonEl.style.display =\n",
              "        google.colab.kernel.accessAllowed ? 'block' : 'none';\n",
              "    })();\n",
              "  </script>\n",
              "</div>\n",
              "\n",
              "    </div>\n",
              "  </div>\n"
            ],
            "application/vnd.google.colaboratory.intrinsic+json": {
              "type": "dataframe",
              "variable_name": "df",
              "summary": "{\n  \"name\": \"df\",\n  \"rows\": 1733,\n  \"fields\": [\n    {\n      \"column\": \"season\",\n      \"properties\": {\n        \"dtype\": \"number\",\n        \"std\": 3,\n        \"min\": 2011,\n        \"max\": 2023,\n        \"num_unique_values\": 13,\n        \"samples\": [\n          2014,\n          2016,\n          2023\n        ],\n        \"semantic_type\": \"\",\n        \"description\": \"\"\n      }\n    },\n    {\n      \"column\": \"stage\",\n      \"properties\": {\n        \"dtype\": \"category\",\n        \"num_unique_values\": 6,\n        \"samples\": [\n          \"Final\",\n          \"Semifinal\",\n          \"Qualifying Match\"\n        ],\n        \"semantic_type\": \"\",\n        \"description\": \"\"\n      }\n    },\n    {\n      \"column\": \"date\",\n      \"properties\": {\n        \"dtype\": \"category\",\n        \"num_unique_values\": 620,\n        \"samples\": [\n          \"17/05/2012\",\n          \"19/04/2013\",\n          \"23/02/2012\"\n        ],\n        \"semantic_type\": \"\",\n        \"description\": \"\"\n      }\n    },\n    {\n      \"column\": \"home_club\",\n      \"properties\": {\n        \"dtype\": \"category\",\n        \"num_unique_values\": 130,\n        \"samples\": [\n          \"Defensor Sporting\",\n          \"Lan\\u00fas\",\n          \"Libertad\"\n        ],\n        \"semantic_type\": \"\",\n        \"description\": \"\"\n      }\n    },\n    {\n      \"column\": \"away_club\",\n      \"properties\": {\n        \"dtype\": \"category\",\n        \"num_unique_values\": 130,\n        \"samples\": [\n          \"Junior FC\",\n          \"Deportivo Quito\",\n          \"Aucas\"\n        ],\n        \"semantic_type\": \"\",\n        \"description\": \"\"\n      }\n    },\n    {\n      \"column\": \"home_score\",\n      \"properties\": {\n        \"dtype\": \"number\",\n        \"std\": 1,\n        \"min\": 0,\n        \"max\": 8,\n        \"num_unique_values\": 9,\n        \"samples\": [\n          6,\n          1,\n          5\n        ],\n        \"semantic_type\": \"\",\n        \"description\": \"\"\n      }\n    },\n    {\n      \"column\": \"away_score\",\n      \"properties\": {\n        \"dtype\": \"number\",\n        \"std\": 1,\n        \"min\": 0,\n        \"max\": 7,\n        \"num_unique_values\": 8,\n        \"samples\": [\n          2,\n          5,\n          1\n        ],\n        \"semantic_type\": \"\",\n        \"description\": \"\"\n      }\n    },\n    {\n      \"column\": \"result\",\n      \"properties\": {\n        \"dtype\": \"category\",\n        \"num_unique_values\": 3,\n        \"samples\": [\n          \"Vit\\u00f3ria do time da casa\",\n          \"Empate\",\n          \"Vit\\u00f3ria do time visitante\"\n        ],\n        \"semantic_type\": \"\",\n        \"description\": \"\"\n      }\n    },\n    {\n      \"column\": \"country_home\",\n      \"properties\": {\n        \"dtype\": \"category\",\n        \"num_unique_values\": 11,\n        \"samples\": [\n          \"Uruguai\",\n          \"Brasil\",\n          \"Peru\"\n        ],\n        \"semantic_type\": \"\",\n        \"description\": \"\"\n      }\n    },\n    {\n      \"column\": \"country_away\",\n      \"properties\": {\n        \"dtype\": \"category\",\n        \"num_unique_values\": 11,\n        \"samples\": [\n          \"Uruguai\",\n          \"Argentina\",\n          \"Peru\"\n        ],\n        \"semantic_type\": \"\",\n        \"description\": \"\"\n      }\n    },\n    {\n      \"column\": \"scoreboard\",\n      \"properties\": {\n        \"dtype\": \"category\",\n        \"num_unique_values\": 46,\n        \"samples\": [\n          \"5x4\",\n          \"7x1\",\n          \"8x1\"\n        ],\n        \"semantic_type\": \"\",\n        \"description\": \"\"\n      }\n    }\n  ]\n}"
            }
          },
          "metadata": {},
          "execution_count": 140
        }
      ]
    },
    {
      "cell_type": "code",
      "source": [
        "df.scoreboard.unique()"
      ],
      "metadata": {
        "colab": {
          "base_uri": "https://localhost:8080/"
        },
        "id": "UNV3bSxku4u2",
        "outputId": "eba9f9e5-61e9-4452-f6a0-cda055c0a69d"
      },
      "execution_count": 141,
      "outputs": [
        {
          "output_type": "execute_result",
          "data": {
            "text/plain": [
              "array(['2x1', '1x1', '1x2', '0x0', '2x2', '1x3', '2x0', '0x4', '0x1',\n",
              "       '3x0', '3x1', '4x2', '1x0', '4x0', '3x2', '4x1', '5x0', '0x2',\n",
              "       '0x3', '5x1', '8x0', '6x0', '2x3', '3x3', '4x4', '7x1', '8x1',\n",
              "       '3x4', '7x0', '0x5', '1x4', '2x4', '6x1', '5x2', '6x2', '7x2',\n",
              "       '2x6', '0x6', '4x3', '5x4', '2x7', '1x5', '4x5', '5x3', '3x5',\n",
              "       '2x5'], dtype=object)"
            ]
          },
          "metadata": {},
          "execution_count": 141
        }
      ]
    },
    {
      "cell_type": "code",
      "source": [
        "# Normalizando os placares que são iguais\n",
        "def normalizar_placar(placares):\n",
        "    if placares == '0x1' or placares == '1x0':\n",
        "        return '1x0'\n",
        "    if placares == '0x2' or placares == '2x0':\n",
        "        return '2x0'\n",
        "    if placares == '0x3' or placares == '3x0':\n",
        "        return '3x0'\n",
        "    if placares == '0x4' or placares == '4x0':\n",
        "        return '4x0'\n",
        "    if placares == '0x5' or placares == '5x0':\n",
        "        return '5x0'\n",
        "    if placares == '0x6' or placares == '6x0':\n",
        "        return '6x0'\n",
        "    if placares == '0x7' or placares == '7x0':\n",
        "        return '7x0'\n",
        "\n",
        "    if placares == '1x2' or placares == '2x1':\n",
        "        return '2x1'\n",
        "    if placares == '1x3' or placares == '3x1':\n",
        "        return '3x1'\n",
        "    if placares == '1x4' or placares == '4x1':\n",
        "        return '4x1'\n",
        "    if placares == '1x5' or placares == '5x1':\n",
        "        return '5x1'\n",
        "    if placares == '1x6' or placares == '6x1':\n",
        "        return '6x1'\n",
        "    if placares == '1x7' or placares == '7x1':\n",
        "        return '7x1'\n",
        "\n",
        "    if placares == '2x3' or placares == '3x2':\n",
        "        return '3x2'\n",
        "    if placares == '2x4' or placares == '4x2':\n",
        "        return '4x2'\n",
        "    if placares == '2x5' or placares == '5x2':\n",
        "        return '5x2'\n",
        "    if placares == '2x6' or placares == '6x2':\n",
        "        return '6x2'\n",
        "    if placares == '2x7' or placares == '7x2':\n",
        "        return '7x2'\n",
        "\n",
        "    if placares == '3x4' or placares == '4x3':\n",
        "        return '4x3'\n",
        "    if placares == '3x5' or placares == '5x3':\n",
        "        return '5x3'\n",
        "    if placares == '3x6' or placares == '6x3':\n",
        "        return '6x3'\n",
        "    if placares == '3x7' or placares == '7x3':\n",
        "        return '7x3'\n",
        "\n",
        "    if placares == '4x5' or placares == '5x4':\n",
        "        return '5x4'\n",
        "    if placares == '4x6' or placares == '6x4':\n",
        "        return '6x4'\n",
        "    if placares == '4x7' or placares == '7x4':\n",
        "        return '7x4'\n",
        "\n",
        "    if placares == '5x6' or placares == '6x5':\n",
        "        return '6x5'\n",
        "    if placares == '5x7' or placares == '7x5':\n",
        "        return '7x5'\n",
        "\n",
        "    if placares == '6x7' or placares == '7x6':\n",
        "        return '7x6'\n",
        "\n",
        "    else:\n",
        "        return placares\n",
        "\n",
        "\n",
        "# Criar coluna 'scoreboard_ajustado' aplicando a função normalizar_placar\n",
        "df['scoreboard_ajustado'] = df['scoreboard'].apply(normalizar_placar)\n"
      ],
      "metadata": {
        "id": "ly6l86KCFxjD"
      },
      "execution_count": 142,
      "outputs": []
    },
    {
      "cell_type": "markdown",
      "source": [
        "# Perguntas & Respostas"
      ],
      "metadata": {
        "id": "sGCvTSDxe089"
      }
    },
    {
      "cell_type": "markdown",
      "source": [
        "### 1. Qual o time que mais tem jogos durante o período analisado?"
      ],
      "metadata": {
        "id": "5Vz1Zkkbe4k7"
      }
    },
    {
      "cell_type": "code",
      "source": [
        "# Contagem de ocorrências de cada clube nas colunas 'home_club' e 'away_club'\n",
        "contagem = pd.concat([df['home_club'], df['away_club']]).value_counts()\n",
        "\n",
        "# Encontrar o time mais frequente\n",
        "time_mais_frequente = contagem.idxmax()\n",
        "frequencia = contagem.max()\n",
        "\n",
        "print(f\"Time com mais jogos: {time_mais_frequente} - {frequencia} jogos\")"
      ],
      "metadata": {
        "colab": {
          "base_uri": "https://localhost:8080/"
        },
        "id": "PKUIvbBYe34o",
        "outputId": "755e849e-8cd0-48c2-b0a2-7dcb61a487ef"
      },
      "execution_count": 144,
      "outputs": [
        {
          "output_type": "stream",
          "name": "stdout",
          "text": [
            "Time com mais jogos: Boca Juniors - 111 jogos\n"
          ]
        }
      ]
    },
    {
      "cell_type": "markdown",
      "source": [
        "### 2. Qual a distribuição histórica dos resultados? E por fase da competição?"
      ],
      "metadata": {
        "id": "S9Ty2Xrtq5Md"
      }
    },
    {
      "cell_type": "code",
      "source": [
        "# Agrupando a quantidade de gols por tipo\n",
        "qtd_resultados = df.groupby(['result']).size().reset_index(name='quantidade')\n",
        "qtd_resultados\n",
        "\n",
        "# Ordenar os valores por 'quantidade' em ordem decrescente\n",
        "results = qtd_resultados.sort_values(by='quantidade', ascending=False)\n",
        "\n",
        "# Calculando o total de partidas\n",
        "total_partidas = results['quantidade'].sum()\n",
        "\n",
        "# Plotar dos gráficos de barras\n",
        "plt.figure(figsize=(12, 8))\n",
        "bars = plt.bar(results['result'], results['quantidade'], color='black', width=0.5)\n",
        "plt.xlabel('Resultado da partida')\n",
        "plt.ylabel('Quantidade de partidas')\n",
        "plt.title('Distribuição dos resultados das partidas')\n",
        "plt.xticks(rotation=45, ha='right')\n",
        "plt.grid(axis='y', linestyle='--', alpha=0.7)\n",
        "\n",
        "# Adicionando rótulos de dados com o percentual\n",
        "for bar in bars:\n",
        "    height = bar.get_height()\n",
        "    percentual = (height / total_partidas) * 100\n",
        "    plt.text(bar.get_x() + bar.get_width() / 2, height + 0.5, f'{percentual:.2f}%', ha='center', va='bottom')\n",
        "\n",
        "plt.tight_layout()\n",
        "plt.show()"
      ],
      "metadata": {
        "colab": {
          "base_uri": "https://localhost:8080/",
          "height": 807
        },
        "id": "cIO1FHDgrKvB",
        "outputId": "2c438cfb-612c-4b35-8bd9-ae53fabfbfb8"
      },
      "execution_count": 145,
      "outputs": [
        {
          "output_type": "display_data",
          "data": {
            "text/plain": [
              "<Figure size 1200x800 with 1 Axes>"
            ],
            "image/png": "[encoded data removed]"
          },
          "metadata": {}
        }
      ]
    },
    {
      "cell_type": "markdown",
      "source": [
        "Aqui é evidente a influência dos times da casa no resultado final da partida. São apresentadas abaixo alguns possíveis motivos para o resultado sempre ser positivo para o time mandante.\n",
        "\n",
        "1 - Apoio da Torcida: Os times mandantes contam com o apoio de seus torcedores, criando um ambiente de total incentivo e pressão sobre os adversários.\n",
        "\n",
        "2 - Familiaridade com o estádio e condições locais: Os times mandantes geralmente estão acostumados com o estádio onde jogam assim como com as condições locais, como o clima, torcida e o gramado.\n",
        "\n",
        "3 - \"Fator Campo\": Os times da casa conseguem impor seu estilo de jogo e controlar o ritmo da partida, se aproveitando desse conhecimento de campo e das condições já destacadas acima.\n",
        "\n",
        "4 - Viagens e Desgaste: Os times visitantes enfrentam longas viagens antes dos jogos e muitas horas de aeroporto e translado, o que pode resultar em cansaço e desconforto resultando em um possível desgaste dos atletas.\n",
        "\n",
        "5 - Pressão: Jogar como visitante na Libertadores pode gerar uma pressão psicológica adicional sobre os jogadores, especialmente em estádios lotados e hostis. Essa pressão pode afetar o desempenho dos jogadores visitantes e beneficiar os times da casa."
      ],
      "metadata": {
        "id": "IaNATW5Ffxol"
      }
    },
    {
      "cell_type": "code",
      "source": [
        "# Agrupando os dados por 'resultado' e 'stage' e contando as ocorrências\n",
        "grouped_data = df.groupby(['result', 'stage']).size().unstack(fill_value=0)\n",
        "\n",
        "# Normalizando os dados\n",
        "grouped_data_percentual = grouped_data.div(grouped_data.sum(axis=1), axis=0) * 100\n",
        "\n",
        "# Plotar um gráfico de colunas 100% empilhadas com os percentuais\n",
        "plt.figure(figsize=(12, 8))\n",
        "grouped_data_percentual.plot(kind='bar', stacked=True, color=plt.cm.tab20.colors)\n",
        "plt.xlabel('Resultado da partida')\n",
        "plt.ylabel('Percentual')\n",
        "plt.title('Percentual dos resultados das partidas por etapa (stage)')\n",
        "plt.xticks(rotation=45, ha='right')\n",
        "plt.legend(title='Stage', bbox_to_anchor=(1.05, 1), loc='upper left')\n",
        "plt.grid(axis='y', linestyle='--', alpha=0.7)\n",
        "plt.tight_layout()\n",
        "plt.show()\n"
      ],
      "metadata": {
        "colab": {
          "base_uri": "https://localhost:8080/",
          "height": 504
        },
        "id": "uk4G8U-h8yV4",
        "outputId": "88a647fd-6153-4779-8ba3-e42adb1ff345"
      },
      "execution_count": 159,
      "outputs": [
        {
          "output_type": "display_data",
          "data": {
            "text/plain": [
              "<Figure size 1200x800 with 0 Axes>"
            ]
          },
          "metadata": {}
        },
        {
          "output_type": "display_data",
          "data": {
            "text/plain": [
              "<Figure size 640x480 with 1 Axes>"
            ],
            "image/png": "[encoded data removed]"
          },
          "metadata": {}
        }
      ]
    },
    {
      "cell_type": "markdown",
      "source": [
        "Aqui também é evidente que o fator casa é importante, independente da fase da competição. O que pode se descar é que a vitória dos times visitantes são muito concentradas na fase de grupos do torneio."
      ],
      "metadata": {
        "id": "kzEL9Lh6hIxN"
      }
    },
    {
      "cell_type": "markdown",
      "source": [
        "### 3. Qual o percentual de vitórias por país?"
      ],
      "metadata": {
        "id": "y2vGNFU8yJlx"
      }
    },
    {
      "cell_type": "code",
      "source": [
        "\n",
        "# Filtrando as vitórias\n",
        "vitorias = df[(df['result'] == 'Vitória do time da casa') | (df['result'] == 'Vitória do time visitante')]\n",
        "\n",
        "# Agrupando a quantidade de vitórias por país do time da casa\n",
        "qtd_vitorias_por_pais = vitorias.groupby(['country_home']).size().reset_index(name='quantidade')\n",
        "\n",
        "# Ordenação decrescente por país\n",
        "qtd_vitorias_por_pais = qtd_vitorias_por_pais.sort_values(by='quantidade', ascending=False)\n",
        "\n",
        "# Calculando o total de partidas\n",
        "total_partidas = qtd_vitorias_por_pais['quantidade'].sum()\n",
        "\n",
        "# Calculando os percentuais\n",
        "qtd_vitorias_por_pais['percentual'] = qtd_vitorias_por_pais['quantidade'] / total_partidas * 100\n",
        "\n",
        "# Plotando o gráfico de barras\n",
        "plt.figure(figsize=(12, 8))\n",
        "bars = plt.bar(qtd_vitorias_por_pais['country_home'], qtd_vitorias_por_pais['quantidade'], color='black')\n",
        "plt.xlabel('País do time da casa')\n",
        "plt.ylabel('Quantidade de vitórias')\n",
        "plt.title('Proporção de vitórias por país')\n",
        "plt.xticks(rotation=45, ha='right')\n",
        "plt.grid(axis='y', linestyle='--', alpha=0.7)\n",
        "\n",
        "# Adicionando rótulos de dados acima de cada barra\n",
        "for i, bar in enumerate(bars):\n",
        "    height = bar.get_height()\n",
        "    percentual = qtd_vitorias_por_pais.iloc[i]['percentual']\n",
        "    plt.text(bar.get_x() + bar.get_width() / 2, height, f'{percentual:.2f}%', ha='center', va='bottom')\n",
        "\n",
        "plt.tight_layout()\n",
        "plt.show()\n"
      ],
      "metadata": {
        "colab": {
          "base_uri": "https://localhost:8080/",
          "height": 807
        },
        "id": "XzOMOWZoTMG8",
        "outputId": "59644ec8-3107-49cb-e4dd-ce2ee5e9ce0b"
      },
      "execution_count": 147,
      "outputs": [
        {
          "output_type": "display_data",
          "data": {
            "text/plain": [
              "<Figure size 1200x800 with 1 Axes>"
            ],
            "image/png": "[encoded data removed]"
          },
          "metadata": {}
        }
      ]
    },
    {
      "cell_type": "markdown",
      "source": [
        "Os times brasileiros e argentinos têm historicamente dominado a Copa Libertadores, o principal torneio de clubes da América do Sul, por algumas razões:\n",
        "\n",
        "1 - Tradição e História: Tanto o Brasil quanto a Argentina têm uma rica tradição no futebol, com clubes que têm uma longa história de sucesso tanto em nível nacional quanto internacional. Essa tradição cria uma cultura de excelência e aspirações de vitória em competições como a Libertadores.\n",
        "\n",
        "2 - Investimento Financeiro: Os clubes brasileiros e argentinos têm recursos financeiros significativos em comparação com outros clubes sul-americanos. Isso permite que eles contratem jogadores de alto nível, técnicos experientes e invistam em infraestrutura e desenvolvimento de jovens talentos.\n",
        "\n",
        "3 - Profissionalismo e Estrutura Organizacional: Os clubes brasileiros e argentinos têm uma estrutura organizacional profissionalizada, com gestão eficiente, academias de base bem estabelecidas e uma infraestrutura sólida de apoio aos jogadores. Isso contribui para um ambiente propício ao desenvolvimento e sucesso no futebol.\n",
        "\n",
        "4 - Competições internas fortes: As ligas brasileira e argentina são consideradas duas das mais competitivas da América do Sul. Os clubes que competem nessas ligas enfrentam regularmente desafios intensos, o que os prepara bem para competições internacionais como a Libertadores.\n",
        "\n",
        "5 - Cultura do Futebol: Tanto no Brasil quanto na Argentina, o futebol é uma paixão nacional. Esse sentimento cria um ambiente onde os jogadores são incentivados a alcançar o mais alto nível de desempenho, e os clubes são motivados a buscar sucesso em todas as competições em que participam.\n",
        "\n",
        "6 - Histórico de Sucesso: O sucesso passado dos clubes brasileiros e argentinos na Libertadores alimenta a crença de que eles podem vencer novamente. Isso cria uma mentalidade vencedora e uma pressão adicional para manter a tradição de excelência."
      ],
      "metadata": {
        "id": "Q5yy6lhGiCn_"
      }
    },
    {
      "cell_type": "markdown",
      "source": [
        "### 4. Quais os países que mais tiveram times participando do torneio?"
      ],
      "metadata": {
        "id": "aq8r-B8Xq2SW"
      }
    },
    {
      "cell_type": "code",
      "source": [
        "# Agrupar os dados pelo país do time e contar os times distintos\n",
        "times_distintos_por_pais = df.groupby('country_home')['home_club'].nunique().reset_index()\n",
        "times_distintos_por_pais.columns = ['País', 'Quantidade de Times Distintos']\n",
        "\n",
        "# Ordenar os valores em ordem decrescente\n",
        "times_distintos_por_pais = times_distintos_por_pais.sort_values(by='Quantidade de Times Distintos', ascending=False)\n",
        "\n",
        "# Plotar um gráfico de barras\n",
        "plt.figure(figsize=(12, 8))\n",
        "plt.bar(times_distintos_por_pais['País'], times_distintos_por_pais['Quantidade de Times Distintos'], color='gray')\n",
        "plt.xlabel('País')\n",
        "plt.ylabel('Quantidade de Times Distintos')\n",
        "plt.title('Quantidade de Times Distintos por País')\n",
        "plt.xticks(rotation=90)\n",
        "plt.grid(axis='y', alpha=0.3)\n",
        "plt.tight_layout()\n",
        "plt.show()\n"
      ],
      "metadata": {
        "colab": {
          "base_uri": "https://localhost:8080/",
          "height": 807
        },
        "id": "2lr_z03NYr2U",
        "outputId": "737bba2e-71b7-4e8f-f859-bc2590d6cd60"
      },
      "execution_count": 149,
      "outputs": [
        {
          "output_type": "display_data",
          "data": {
            "text/plain": [
              "<Figure size 1200x800 with 1 Axes>"
            ],
            "image/png": "[encoded data removed]"
          },
          "metadata": {}
        }
      ]
    },
    {
      "cell_type": "markdown",
      "source": [
        "Novamente é evidenciado a tradição dos times argentinos e brasileiros na competição, fatores que influenciam essa supremacia foram mostrados já acima."
      ],
      "metadata": {
        "id": "aJrNq1fai1JJ"
      }
    },
    {
      "cell_type": "markdown",
      "source": [
        "### 5. Quais os times que mais somaram pontos nessas últimas edições de Libertadores?"
      ],
      "metadata": {
        "id": "B8MOn_rQzeQ-"
      }
    },
    {
      "cell_type": "code",
      "source": [
        "# Calculando a pontuação de cada partida\n",
        "def calcular_pontuacao(resultado):\n",
        "    if resultado.startswith('Vitória'):\n",
        "        return 3\n",
        "    elif resultado == 'Empate':\n",
        "        return 1\n",
        "    else:\n",
        "        return 0\n",
        "\n",
        "# Aplicando a função para calcular a pontuação de cada partida\n",
        "df['pontuacao'] = df['result'].apply(calcular_pontuacao)\n",
        "\n",
        "# Agrupando os dados pelo nome do time e somando os pontos\n",
        "pontos_por_time = df.groupby('home_club')['pontuacao'].sum() + df.groupby('home_club')['pontuacao'].sum()\n",
        "\n",
        "# Classificando os times com base na soma dos pontos em ordem decrescente\n",
        "pontos_por_time = pontos_por_time.sort_values(ascending=False).reset_index()\n",
        "\n",
        "# Renomeando as colunas\n",
        "pontos_por_time.columns = ['Time', 'Pontuação']\n",
        "\n",
        "# Exibindo a tabela com a soma dos pontos por time\n",
        "pd.set_option('display.max_rows', None)  # Para mostrar todas as linhas do DataFrame\n",
        "print(pontos_por_time)"
      ],
      "metadata": {
        "colab": {
          "base_uri": "https://localhost:8080/"
        },
        "id": "--FLBoDozekv",
        "outputId": "32d84622-0e69-41ea-ca97-e9cd9c84d10b"
      },
      "execution_count": 150,
      "outputs": [
        {
          "output_type": "stream",
          "name": "stdout",
          "text": [
            "                                 Time  Pontuação\n",
            "0                        Boca Juniors        270\n",
            "1                         River Plate        268\n",
            "2                           Palmeiras        256\n",
            "3                            Nacional        234\n",
            "4                              Grêmio        224\n",
            "5                    Atlético Mineiro        222\n",
            "6                            Flamengo        218\n",
            "7                       Cerro Porteño        214\n",
            "8                            Libertad        196\n",
            "9                             Olimpia        192\n",
            "10                             Emelec        190\n",
            "11                            Peñarol        186\n",
            "12                      The Strongest        182\n",
            "13                      Internacional        182\n",
            "14                  Atlético Nacional        176\n",
            "15                        Corinthians        170\n",
            "16                          Santos FC        166\n",
            "17                      Independiente        166\n",
            "18                    Vélez Sarsfield        158\n",
            "19                        Atlético PR        142\n",
            "20                        Racing Club        140\n",
            "21                            Bolívar        136\n",
            "22               Universidad Católica        130\n",
            "23                          São Paulo        128\n",
            "24            Estudiantes de la Plata        128\n",
            "25                       Barcelona SC        126\n",
            "26                          Colo Colo        126\n",
            "27                      Fluminense FC        126\n",
            "28                           Santa Fe        124\n",
            "29                       LDU de Quito        120\n",
            "30                   Sporting Cristal        116\n",
            "31             San Lorenzo de Almagro        112\n",
            "32                           Cruzeiro        110\n",
            "33                       Alianza Lima        100\n",
            "34               Universidad de Chile        100\n",
            "35                          Junior FC         96\n",
            "36                  Deportivo Táchira         96\n",
            "37                              Lanús         90\n",
            "38                            Guaraní         88\n",
            "39                          Zamora FC         86\n",
            "40                  Jorge Wilstermann         82\n",
            "41                            Caracas         74\n",
            "42                             Tolima         70\n",
            "43                  Defensor Sporting         66\n",
            "44                 Arsenal de Sarandí         64\n",
            "45                         FBC Melgar         64\n",
            "46                     Unión Española         64\n",
            "47           Godoy Cruz Antonio Tomba         60\n",
            "48                 Argentinos Juniors         58\n",
            "49             Independiente Medellín         56\n",
            "50                        Botafogo FR         56\n",
            "51                   Atlético Tucumán         56\n",
            "52                            Huracán         54\n",
            "53                           Cusco FC         54\n",
            "54                     Deportivo Lara         50\n",
            "55                  Nacional Asunción         46\n",
            "56                  Newell's Old Boys         46\n",
            "57                              Tigre         44\n",
            "58                      Vasco da Gama         40\n",
            "59                   Deportes Iquique         38\n",
            "60                          Palestino         38\n",
            "61                          Toluca FC         38\n",
            "62                           San José         38\n",
            "63                 Defensa y Justicia         38\n",
            "64                    Deportivo Quito         36\n",
            "65                     Deportivo Cali         34\n",
            "66                          Delfin SC         34\n",
            "67                       Always Ready         32\n",
            "68                        Juan Aurich         32\n",
            "69                    Rosario Central         32\n",
            "70                        Tigres UANL         32\n",
            "71                  Oriente Petrolero         30\n",
            "72                         Pumas UNAM         30\n",
            "73                        Millonarios         30\n",
            "74          Universitario de Deportes         28\n",
            "75                         Monagas SC         28\n",
            "76                   Jaguares Chiapas         28\n",
            "77                    América de Cali         28\n",
            "78               CS Deportivo Pereira         26\n",
            "79                        Once Caldas         26\n",
            "80                      Santos Laguna         24\n",
            "81                     Colón Santa Fe         24\n",
            "82                               León         22\n",
            "83                Talleres de Cordoba         22\n",
            "84                       Club Tijuana         22\n",
            "85                          Fortaleza         22\n",
            "86                            América         20\n",
            "87               Montevideo Wanderers         20\n",
            "88                    América Mineiro         20\n",
            "89                           Cobresal         18\n",
            "90                            Danubio         18\n",
            "91              Estudiantes de Mérida         18\n",
            "92                 Mineros de Guayana         18\n",
            "93                Patronato de Parana         18\n",
            "94               Deportivo Binacional         18\n",
            "95   Universidad San Martín de Porres         18\n",
            "96                              Atlas         18\n",
            "97                  Metropolitanos FC         18\n",
            "98                          Cruz Azul         16\n",
            "99                      Universitario         16\n",
            "100              Deportivo Anzoátegui         16\n",
            "101                         Liverpool         16\n",
            "102                       San Luis FC         14\n",
            "103                       Guadalajara         14\n",
            "104                   León de Huánuco         14\n",
            "105                             Aucas         14\n",
            "106           Independiente Petrolero         14\n",
            "107                        Huachipato         14\n",
            "108                    Chapecoense AF         14\n",
            "109                    Trujillanos FC         14\n",
            "110                          Ñublense         14\n",
            "111                 Sport Boys Warnes         14\n",
            "112            Red Bull Bragantino SP         14\n",
            "113                        Guarani FC         12\n",
            "114                             Zulia         10\n",
            "115            Deportivo La Guaira FC         10\n",
            "116            Universidad Concepción         10\n",
            "117                   Unión La Calera         10\n",
            "118                         O'Higgins         10\n",
            "119                  Monarcas Morelia          8\n",
            "120                       Real Potosí          6\n",
            "121                        Everton CD          6\n",
            "122                       El Nacional          6\n",
            "123                 Deportivo Capiatá          6\n",
            "124                         Rentistas          6\n",
            "125         Universidad César Vallejo          4\n",
            "126                    Sport Huancayo          2\n",
            "127                  Deportivo Petare          2\n",
            "128                       Club Puebla          2\n",
            "129                     CD Magallanes          2\n"
          ]
        }
      ]
    },
    {
      "cell_type": "markdown",
      "source": [
        "Quando se fala em Copa Libertadores da América não há como não se lembrar do Boca e do River. Os dados mostram o quanto esses dois clubes argentinos são tão tradicionais e tão temidos pelos seus adversários continentais e muito isso se explica por:\n",
        "\n",
        "1 - História e tradição: Ambos os clubes têm uma rica história no futebol argentino e sul-americano. Boca Juniors e River Plate acumularam ao longo dos anos uma vasta coleção de títulos nacionais e internacionais.\n",
        "\n",
        "2 - Grande base de torcedores: Boca e River possuem algumas das maiores e mais apaixonadas bases de torcedores no futebol mundial.\n",
        "\n",
        "3 - Investimento financeiro: São clubes financeiramente mais sólidos da Argentina, com capacidade para investir em infraestrutura, contratação de jogadores de alto nível e desenvolvimento de suas categorias de base."
      ],
      "metadata": {
        "id": "BzjqtjmZjCGM"
      }
    },
    {
      "cell_type": "markdown",
      "source": [
        "### 6. Quais os países que mais pontuaram nessas últimas edições de Libertadores?"
      ],
      "metadata": {
        "id": "c_U8shwF4x9q"
      }
    },
    {
      "cell_type": "code",
      "source": [
        "# Calculando a pontuação de cada partida\n",
        "def calcular_pontuacao(resultado):\n",
        "    if resultado.startswith('Vitória'):\n",
        "        return 3\n",
        "    elif resultado == 'Empate':\n",
        "        return 1\n",
        "    else:\n",
        "        return 0\n",
        "\n",
        "# Aplicando a função para calcular a pontuação de cada partida\n",
        "df['pontuacao'] = df['result'].apply(calcular_pontuacao)\n",
        "\n",
        "# Agrupando os dados pelo nome do time e somando os pontos\n",
        "pontos_por_time = df.groupby('country_home')['pontuacao'].sum() + df.groupby('country_home')['pontuacao'].sum()\n",
        "\n",
        "# Classificando os times com base na soma dos pontos em ordem decrescente\n",
        "pontos_por_time = pontos_por_time.sort_values(ascending=False).reset_index()\n",
        "\n",
        "# Renomeando as colunas\n",
        "pontos_por_time.columns = ['Time', 'Pontuação']\n",
        "\n",
        "# Exibindo a tabela com a soma dos pontos por time\n",
        "pd.set_option('display.max_rows', None)  # Para mostrar todas as linhas do DataFrame\n",
        "print(pontos_por_time)"
      ],
      "metadata": {
        "colab": {
          "base_uri": "https://localhost:8080/"
        },
        "id": "pC9j6msm45SO",
        "outputId": "b06030a6-cb1a-4af0-9b2f-0868daa94e36"
      },
      "execution_count": 151,
      "outputs": [
        {
          "output_type": "stream",
          "name": "stdout",
          "text": [
            "         Time  Pontuação\n",
            "0      Brasil       2122\n",
            "1   Argentina       1848\n",
            "2    Paraguai        742\n",
            "3    Colômbia        666\n",
            "4       Chile        580\n",
            "5     Uruguai        546\n",
            "6     Bolívia        534\n",
            "7     Equador        526\n",
            "8        Peru        466\n",
            "9   Venezuela        440\n",
            "10     México        288\n"
          ]
        }
      ]
    },
    {
      "cell_type": "markdown",
      "source": [
        "É importante pontuar para essa análise que os times mexicanos não são mais convidados à participar da Libertadores desde 2016, o que justifica a posição do país no quadro acima."
      ],
      "metadata": {
        "id": "HSUVOQnbk4ec"
      }
    },
    {
      "cell_type": "markdown",
      "source": [],
      "metadata": {
        "id": "oTFYrIahj5OM"
      }
    },
    {
      "cell_type": "markdown",
      "source": [
        "### 7. Qual a distribuição de pontos conquistados pelas equipes de cada país por temporada?"
      ],
      "metadata": {
        "id": "2SI-LOtJ_VaL"
      }
    },
    {
      "cell_type": "code",
      "source": [
        "# Calculando a pontuação de cada partida\n",
        "def calcular_pontuacao(resultado):\n",
        "    if resultado.startswith('Vitória'):\n",
        "        return 3\n",
        "    elif resultado == 'Empate':\n",
        "        return 1\n",
        "    else:\n",
        "        return 0\n",
        "\n",
        "# Aplicando a função para calcular a pontuação de cada partida\n",
        "df['pontuacao'] = df['result'].apply(calcular_pontuacao)\n",
        "\n",
        "# Agrupando os dados pelo país e pela temporada (season) e somando os pontos\n",
        "pontos_por_pais_season = df.groupby(['country_home', 'season'])['pontuacao'].sum() + df.groupby(['country_away', 'season'])['pontuacao'].sum()\n",
        "\n",
        "# Resetando o índice para tornar os grupos 'team_country_home' e 'season' em colunas\n",
        "pontos_por_pais_season = pontos_por_pais_season.reset_index()\n",
        "\n",
        "# Obtendo a lista única de países\n",
        "paises = pontos_por_pais_season['country_home'].unique()\n",
        "\n",
        "# Definindo as cores para as barras\n",
        "cores = plt.cm.get_cmap('tab10', len(paises))\n",
        "\n",
        "# Plotando o gráfico de barras agrupadas\n",
        "plt.figure(figsize=(12, 8))\n",
        "largura_barra = 0.15\n",
        "for i, pais in enumerate(paises):\n",
        "    dados_pais = pontos_por_pais_season[pontos_por_pais_season['country_home'] == pais]\n",
        "    posicoes_x = np.arange(len(dados_pais))\n",
        "    plt.bar(posicoes_x + i * largura_barra, dados_pais['pontuacao'], width=largura_barra, color=cores(i), label=pais)\n",
        "\n",
        "plt.xlabel('Season')\n",
        "plt.ylabel('Pontuação')\n",
        "plt.title('Pontuação dos países por temporada')\n",
        "plt.xticks(np.arange(len(dados_pais)), dados_pais['season'].unique(), rotation=45)\n",
        "plt.legend()\n",
        "plt.grid(True)\n",
        "plt.tight_layout()\n",
        "plt.show()"
      ],
      "metadata": {
        "colab": {
          "base_uri": "https://localhost:8080/",
          "height": 862
        },
        "id": "ESL4sn4U8f6Q",
        "outputId": "57d72082-b09c-4cf4-c8fb-b53f01322c20"
      },
      "execution_count": 152,
      "outputs": [
        {
          "output_type": "stream",
          "name": "stderr",
          "text": [
            "<ipython-input-152-28feb6d2383a>:23: MatplotlibDeprecationWarning: The get_cmap function was deprecated in Matplotlib 3.7 and will be removed two minor releases later. Use ``matplotlib.colormaps[name]`` or ``matplotlib.colormaps.get_cmap(obj)`` instead.\n",
            "  cores = plt.cm.get_cmap('tab10', len(paises))\n"
          ]
        },
        {
          "output_type": "display_data",
          "data": {
            "text/plain": [
              "<Figure size 1200x800 with 1 Axes>"
            ],
            "image/png": "[encoded data removed]"
          },
          "metadata": {}
        }
      ]
    },
    {
      "cell_type": "markdown",
      "source": [
        "Nesse gráfico é também visivel como Argentina e Brasil se descatacam ao longo dos anos perante os outros times da América do Sul. Os fatores para tentar explicar esse comportamento já foram citados anteriormente."
      ],
      "metadata": {
        "id": "NSTbgITfkmEo"
      }
    },
    {
      "cell_type": "markdown",
      "source": [
        "### 8. Quais os placares mais comuns dos jogos analisados?"
      ],
      "metadata": {
        "id": "IZfz49WzU4jZ"
      }
    },
    {
      "cell_type": "code",
      "source": [
        "# Agrupando a quantidade de gols por tipo\n",
        "qtd_resultados = df.groupby(['scoreboard_ajustado']).size().reset_index(name='quantidade')\n",
        "qtd_resultados\n",
        "\n",
        "# Ordenar os valores por 'quantidade' em ordem decrescente\n",
        "results = qtd_resultados.sort_values(by='quantidade', ascending=False)\n",
        "\n",
        "# Calculando o total de partidas\n",
        "total_partidas = results['quantidade'].sum()\n",
        "\n",
        "# Plotar dos gráficos de barras\n",
        "plt.figure(figsize=(12, 8))\n",
        "bars = plt.bar(results['scoreboard_ajustado'], results['quantidade'], color='black', width=0.5)\n",
        "plt.xlabel('Placar final da partida')\n",
        "plt.ylabel('Quantidade de partidas')\n",
        "plt.title('Distribuição dos placares das partidas')\n",
        "plt.xticks(rotation=45, ha='right')\n",
        "plt.grid(axis='y', linestyle='--', alpha=0.7)\n",
        "\n",
        "# Adicionando rótulos de dados com o percentual\n",
        "for bar in bars:\n",
        "    height = bar.get_height()\n",
        "    percentual = (height / total_partidas) * 100\n",
        "    plt.text(bar.get_x() + bar.get_width() / 2, height + 0.5, f'{percentual:.2f}%', ha='center', va='bottom')\n",
        "\n",
        "plt.tight_layout()\n",
        "plt.show()"
      ],
      "metadata": {
        "colab": {
          "base_uri": "https://localhost:8080/",
          "height": 807
        },
        "id": "ooAGXedeU2Oo",
        "outputId": "2c37fc2f-684d-49bd-9a3d-9451c2f1e1a5"
      },
      "execution_count": 158,
      "outputs": [
        {
          "output_type": "display_data",
          "data": {
            "text/plain": [
              "<Figure size 1200x800 with 1 Axes>"
            ],
            "image/png": "[encoded data removed]"
          },
          "metadata": {}
        }
      ]
    },
    {
      "cell_type": "markdown",
      "source": [
        "Os placares mais comuns das partidas tendem a ser os placares mais \"apertados\". Com no máximo dois gols de diferença, mostra que a competição tem um alto nível de competitividade e os duelos tendem a ter poucas goleadas ou muitos gols na mesma partida."
      ],
      "metadata": {
        "id": "HcmwEoLCkQkS"
      }
    },
    {
      "cell_type": "markdown",
      "source": [
        "## Conclusão\n",
        "\n",
        "Após uma análise abrangente dos dados da Copa Libertadores da América de 2011 a 2023, fica clara a hegemonia dos times brasileiros e argentinos em relação às equipes do restante da América do Sul.\n",
        "\n",
        "Os padrões identificados nos dados revelam aspectos interessantes sobre o desempenho das equipes ao longo do tempo. A disparidade entre vitórias em casa e fora destaca o papel crucial do apoio da torcida e do \"fator campo\" na determinação dos resultados. Além disso, os placares mais \"apertados\" são frequentes na competição, refletindo a intensidade e equilíbrio dos jogos.\n",
        "\n",
        "Além disso, é interessante também analisar que os placares mais \"apertados\" são os que mais acontecem na competição. Vitórias por no máximo 2 gols de diferença são os resultados finais mais frequentes.\n",
        "\n",
        "Os números também evidenciam a ampla influência dos clubes brasileiros e argentinos na Copa Libertadores. Com mais times participantes e uma soma significativa de pontos ao longo dos anos, esses dois países reafirmam sua tradição e domínio no torneio. Esse sucesso é impulsionado pelo investimento financeiro e pela estrutura organizacional dos clubes, que geram retornos consistentes em forma de desempenho e títulos.\n",
        "\n",
        "Este estudo não apenas destaca a importância da Copa Libertadores como um símbolo de identidade e unidade latino-americanas, mas também ressalta o crescente domínio dos times brasileiros e argentinos em relação aos seus concorrentes regionais.\n",
        "\n",
        "\n",
        "\n",
        "\n",
        "\n",
        "\n"
      ],
      "metadata": {
        "id": "ZtGiWl9ln5wL"
      }
    }
  ]
}